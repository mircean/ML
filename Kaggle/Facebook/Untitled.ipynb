{
 "cells": [
  {
   "cell_type": "code",
   "execution_count": 1,
   "metadata": {
    "collapsed": true
   },
   "outputs": [],
   "source": [
    "import sys\n",
    "from datetime import datetime\n",
    "import numpy as np\n",
    "import pandas as pd\n",
    "import matplotlib.pyplot as plt\n",
    "\n",
    "from scipy.sparse import csr_matrix\n",
    "from sklearn import cross_validation\n",
    "from sklearn.cross_validation import train_test_split\n",
    "from sklearn.cross_validation import KFold\n",
    "from sklearn.cross_validation import StratifiedKFold\n",
    "from sklearn.preprocessing import LabelEncoder\n",
    "\n",
    "import xgboost as xgb\n",
    "from xgboost.sklearn import XGBClassifier\n",
    "from xgboost.core import DMatrix\n",
    "from xgboost.training import train, cv\n",
    "from xgboost.plotting import plot_importance\n"
   ]
  },
  {
   "cell_type": "code",
   "execution_count": 103,
   "metadata": {
    "collapsed": false
   },
   "outputs": [],
   "source": [
    "df_train = pd.read_csv('dataset/train.csv',\n",
    "                        usecols=['row_id','x','y','time','place_id','accuracy'], \n",
    "                        index_col = 0)"
   ]
  },
  {
   "cell_type": "code",
   "execution_count": 31,
   "metadata": {
    "collapsed": false
   },
   "outputs": [],
   "source": [
    "df_test = pd.read_csv('dataset/test.csv',\n",
    "                        usecols=['row_id','x','y','time','accuracy'], \n",
    "                        index_col = 0)"
   ]
  },
  {
   "cell_type": "code",
   "execution_count": 117,
   "metadata": {
    "collapsed": false
   },
   "outputs": [
    {
     "name": "stdout",
     "output_type": "stream",
     "text": [
      "1 786239\n",
      "786242 1006589\n"
     ]
    }
   ],
   "source": [
    "print(df_train.time.min(), df_train.time.max())\n",
    "print(df_test.time.min(), df_test.time.max())"
   ]
  },
  {
   "cell_type": "code",
   "execution_count": 124,
   "metadata": {
    "collapsed": false
   },
   "outputs": [
    {
     "data": {
      "text/html": [
       "<div>\n",
       "<table border=\"1\" class=\"dataframe\">\n",
       "  <thead>\n",
       "    <tr style=\"text-align: right;\">\n",
       "      <th></th>\n",
       "      <th>x</th>\n",
       "      <th>y</th>\n",
       "      <th>accuracy</th>\n",
       "      <th>time</th>\n",
       "    </tr>\n",
       "    <tr>\n",
       "      <th>row_id</th>\n",
       "      <th></th>\n",
       "      <th></th>\n",
       "      <th></th>\n",
       "      <th></th>\n",
       "    </tr>\n",
       "  </thead>\n",
       "  <tbody>\n",
       "    <tr>\n",
       "      <th>0</th>\n",
       "      <td>0.1675</td>\n",
       "      <td>1.3608</td>\n",
       "      <td>107</td>\n",
       "      <td>930883</td>\n",
       "    </tr>\n",
       "    <tr>\n",
       "      <th>1</th>\n",
       "      <td>7.3909</td>\n",
       "      <td>2.5301</td>\n",
       "      <td>35</td>\n",
       "      <td>893017</td>\n",
       "    </tr>\n",
       "    <tr>\n",
       "      <th>2</th>\n",
       "      <td>8.0978</td>\n",
       "      <td>2.3473</td>\n",
       "      <td>62</td>\n",
       "      <td>976933</td>\n",
       "    </tr>\n",
       "    <tr>\n",
       "      <th>3</th>\n",
       "      <td>0.9990</td>\n",
       "      <td>1.0591</td>\n",
       "      <td>62</td>\n",
       "      <td>907285</td>\n",
       "    </tr>\n",
       "    <tr>\n",
       "      <th>4</th>\n",
       "      <td>0.6670</td>\n",
       "      <td>9.7254</td>\n",
       "      <td>40</td>\n",
       "      <td>914399</td>\n",
       "    </tr>\n",
       "    <tr>\n",
       "      <th>5</th>\n",
       "      <td>0.1771</td>\n",
       "      <td>0.0022</td>\n",
       "      <td>161</td>\n",
       "      <td>814077</td>\n",
       "    </tr>\n",
       "    <tr>\n",
       "      <th>6</th>\n",
       "      <td>5.5299</td>\n",
       "      <td>4.6581</td>\n",
       "      <td>2</td>\n",
       "      <td>930759</td>\n",
       "    </tr>\n",
       "    <tr>\n",
       "      <th>7</th>\n",
       "      <td>8.6021</td>\n",
       "      <td>3.1744</td>\n",
       "      <td>4</td>\n",
       "      <td>862115</td>\n",
       "    </tr>\n",
       "    <tr>\n",
       "      <th>8</th>\n",
       "      <td>4.2250</td>\n",
       "      <td>6.3435</td>\n",
       "      <td>162</td>\n",
       "      <td>787391</td>\n",
       "    </tr>\n",
       "    <tr>\n",
       "      <th>9</th>\n",
       "      <td>0.6489</td>\n",
       "      <td>6.2611</td>\n",
       "      <td>39</td>\n",
       "      <td>793166</td>\n",
       "    </tr>\n",
       "  </tbody>\n",
       "</table>\n",
       "</div>"
      ],
      "text/plain": [
       "             x       y  accuracy    time\n",
       "row_id                                  \n",
       "0       0.1675  1.3608       107  930883\n",
       "1       7.3909  2.5301        35  893017\n",
       "2       8.0978  2.3473        62  976933\n",
       "3       0.9990  1.0591        62  907285\n",
       "4       0.6670  9.7254        40  914399\n",
       "5       0.1771  0.0022       161  814077\n",
       "6       5.5299  4.6581         2  930759\n",
       "7       8.6021  3.1744         4  862115\n",
       "8       4.2250  6.3435       162  787391\n",
       "9       0.6489  6.2611        39  793166"
      ]
     },
     "execution_count": 124,
     "metadata": {},
     "output_type": "execute_result"
    }
   ],
   "source": [
    "df_test[:10]"
   ]
  },
  {
   "cell_type": "code",
   "execution_count": 15,
   "metadata": {
    "collapsed": true
   },
   "outputs": [],
   "source": [
    "df_test = pd.read_csv('Dataset\\\\test0.csv', usecols = ['row_id', 'place_id'])"
   ]
  },
  {
   "cell_type": "code",
   "execution_count": 63,
   "metadata": {
    "collapsed": false
   },
   "outputs": [],
   "source": [
    "plt.plot(df_train2.index, df_train2.time, 'bo')\n",
    "#plt.plot(df_train2.time, 'bo')\n",
    "\n",
    "plt.show()"
   ]
  },
  {
   "cell_type": "code",
   "execution_count": 53,
   "metadata": {
    "collapsed": false
   },
   "outputs": [],
   "source": [
    "df_test.time.hist()\n",
    "plt.show()"
   ]
  },
  {
   "cell_type": "code",
   "execution_count": null,
   "metadata": {
    "collapsed": true
   },
   "outputs": [],
   "source": [
    "df_train.index[:1"
   ]
  },
  {
   "cell_type": "code",
   "execution_count": 125,
   "metadata": {
    "collapsed": false
   },
   "outputs": [
    {
     "data": {
      "text/plain": [
       "23294416"
      ]
     },
     "execution_count": 125,
     "metadata": {},
     "output_type": "execute_result"
    }
   ],
   "source": [
    "train_len = int(df_train.shape[0]*0.8)\n",
    "train_len"
   ]
  },
  {
   "cell_type": "code",
   "execution_count": 127,
   "metadata": {
    "collapsed": false
   },
   "outputs": [],
   "source": [
    "train80 = df_train_sorted[:train_len].sort_index().index\n",
    "train20 = df_train_sorted[train_len:].sort_index().index\n"
   ]
  },
  {
   "cell_type": "code",
   "execution_count": 128,
   "metadata": {
    "collapsed": false
   },
   "outputs": [
    {
     "data": {
      "text/plain": [
       "Int64Index([       0,        1,        2,        4,        5,        7,\n",
       "                   8,        9,       10,       11,\n",
       "            ...\n",
       "            29118009, 29118010, 29118011, 29118012, 29118013, 29118014,\n",
       "            29118015, 29118016, 29118017, 29118020],\n",
       "           dtype='int64', name='row_id', length=23294416)"
      ]
     },
     "execution_count": 128,
     "metadata": {},
     "output_type": "execute_result"
    }
   ],
   "source": [
    "train80"
   ]
  },
  {
   "cell_type": "code",
   "execution_count": 129,
   "metadata": {
    "collapsed": false
   },
   "outputs": [
    {
     "data": {
      "text/plain": [
       "Int64Index([       3,        6,       16,       20,       23,       27,\n",
       "                  34,       35,       44,       52,\n",
       "            ...\n",
       "            29117963, 29117965, 29117967, 29117975, 29117978, 29118002,\n",
       "            29118005, 29118008, 29118018, 29118019],\n",
       "           dtype='int64', name='row_id', length=5823605)"
      ]
     },
     "execution_count": 129,
     "metadata": {},
     "output_type": "execute_result"
    }
   ],
   "source": [
    "train20"
   ]
  },
  {
   "cell_type": "code",
   "execution_count": 119,
   "metadata": {
    "collapsed": false
   },
   "outputs": [],
   "source": [
    "df_train_fold = df_train_sorted[:train_len:].sort_index()\n",
    "df_test_fold = df_train_sorted[train_len:].sort_index()"
   ]
  },
  {
   "cell_type": "code",
   "execution_count": 140,
   "metadata": {
    "collapsed": false
   },
   "outputs": [],
   "source": [
    "df_test_fold.y.hist()\n",
    "plt.show()"
   ]
  },
  {
   "cell_type": "code",
   "execution_count": null,
   "metadata": {
    "collapsed": true
   },
   "outputs": [],
   "source": []
  },
  {
   "cell_type": "raw",
   "metadata": {},
   "source": [
    "df_test_fold = df_train_sorted[train_len:]"
   ]
  },
  {
   "cell_type": "code",
   "execution_count": 99,
   "metadata": {
    "collapsed": false
   },
   "outputs": [
    {
     "data": {
      "text/plain": [
       "2"
      ]
     },
     "execution_count": 99,
     "metadata": {},
     "output_type": "execute_result"
    }
   ],
   "source": [
    "df_test_fold.time.min()"
   ]
  },
  {
   "cell_type": "code",
   "execution_count": 102,
   "metadata": {
    "collapsed": false
   },
   "outputs": [
    {
     "data": {
      "text/html": [
       "<div>\n",
       "<table border=\"1\" class=\"dataframe\">\n",
       "  <thead>\n",
       "    <tr style=\"text-align: right;\">\n",
       "      <th></th>\n",
       "      <th>x</th>\n",
       "      <th>y</th>\n",
       "      <th>accuracy</th>\n",
       "      <th>time</th>\n",
       "      <th>place_id</th>\n",
       "    </tr>\n",
       "    <tr>\n",
       "      <th>row_id</th>\n",
       "      <th></th>\n",
       "      <th></th>\n",
       "      <th></th>\n",
       "      <th></th>\n",
       "      <th></th>\n",
       "    </tr>\n",
       "  </thead>\n",
       "  <tbody>\n",
       "    <tr>\n",
       "      <th>27743788</th>\n",
       "      <td>3.7725</td>\n",
       "      <td>6.4504</td>\n",
       "      <td>65</td>\n",
       "      <td>2</td>\n",
       "      <td>4115006237</td>\n",
       "    </tr>\n",
       "  </tbody>\n",
       "</table>\n",
       "</div>"
      ],
      "text/plain": [
       "               x       y  accuracy  time    place_id\n",
       "row_id                                              \n",
       "27743788  3.7725  6.4504        65     2  4115006237"
      ]
     },
     "execution_count": 102,
     "metadata": {},
     "output_type": "execute_result"
    }
   ],
   "source": [
    "df_test_fold[df_test_fold.time == 2]"
   ]
  },
  {
   "cell_type": "code",
   "execution_count": 141,
   "metadata": {
    "collapsed": true
   },
   "outputs": [],
   "source": [
    "df_all = pd.concat((df_train, df_test), axis=0, ignore_index=True)"
   ]
  },
  {
   "cell_type": "code",
   "execution_count": 142,
   "metadata": {
    "collapsed": false
   },
   "outputs": [
    {
     "data": {
      "text/plain": [
       "1006589"
      ]
     },
     "execution_count": 142,
     "metadata": {},
     "output_type": "execute_result"
    }
   ],
   "source": [
    "df_all.time.max()"
   ]
  },
  {
   "cell_type": "code",
   "execution_count": 148,
   "metadata": {
    "collapsed": false
   },
   "outputs": [
    {
     "data": {
      "text/plain": [
       "23.300671296296297"
      ]
     },
     "execution_count": 148,
     "metadata": {},
     "output_type": "execute_result"
    }
   ],
   "source": [
    "1006589/60/24/30"
   ]
  },
  {
   "cell_type": "code",
   "execution_count": 150,
   "metadata": {
    "collapsed": false
   },
   "outputs": [],
   "source": [
    "month = df_all.time//60*24*30"
   ]
  },
  {
   "cell_type": "code",
   "execution_count": 152,
   "metadata": {
    "collapsed": true
   },
   "outputs": [],
   "source": [
    "month.hist(bins=23)\n",
    "plt.show()"
   ]
  },
  {
   "cell_type": "code",
   "execution_count": 153,
   "metadata": {
    "collapsed": false
   },
   "outputs": [
    {
     "data": {
      "text/plain": [
       "545.99930555555557"
      ]
     },
     "execution_count": 153,
     "metadata": {},
     "output_type": "execute_result"
    }
   ],
   "source": [
    "df_train.time.max()/60/24"
   ]
  },
  {
   "cell_type": "code",
   "execution_count": 173,
   "metadata": {
    "collapsed": false
   },
   "outputs": [
    {
     "data": {
      "text/plain": [
       "array([[         0, 8523065625],\n",
       "       [         1, 1757726713],\n",
       "       [         2, 1137537235],\n",
       "       ..., \n",
       "       [  29118018, 2838334300],\n",
       "       [  29118019, 1007355847],\n",
       "       [  29118020, 7028698129]], dtype=int64)"
      ]
     },
     "execution_count": 173,
     "metadata": {},
     "output_type": "execute_result"
    }
   ],
   "source": [
    "np.column_stack((df_train.index, df_train['place_id'].values))"
   ]
  },
  {
   "cell_type": "code",
   "execution_count": 174,
   "metadata": {
    "collapsed": false
   },
   "outputs": [
    {
     "data": {
      "text/plain": [
       "Int64Index([       0,        1,        2,        3,        4,        5,\n",
       "                   6,        7,        8,        9,\n",
       "            ...\n",
       "            29118011, 29118012, 29118013, 29118014, 29118015, 29118016,\n",
       "            29118017, 29118018, 29118019, 29118020],\n",
       "           dtype='int64', name='row_id', length=29118021)"
      ]
     },
     "execution_count": 174,
     "metadata": {},
     "output_type": "execute_result"
    }
   ],
   "source": [
    "df_train.index"
   ]
  },
  {
   "cell_type": "code",
   "execution_count": 177,
   "metadata": {
    "collapsed": false
   },
   "outputs": [
    {
     "data": {
      "text/plain": [
       "array([  0,   5,   6,   8,   9,  11,  14,  17,  19,  21,  23,  24,  25,\n",
       "        26,  27,  28,  31,  33,  34,  35,  36,  39,  43,  44,  45,  46,\n",
       "        47,  49,  50,  51,  52,  54,  56,  57,  59,  61,  63,  64,  66,\n",
       "        69,  73,  75,  78,  79,  81,  82,  83,  85,  86,  87,  88,  92,\n",
       "        93,  94,  95,  96,  97,  98, 100, 102, 103, 104, 105, 106, 110,\n",
       "       112, 114, 115, 118, 121, 122, 124, 125, 127, 132, 133, 135, 138,\n",
       "       140, 144, 145, 147, 148, 149, 150, 151, 153, 154, 159, 162, 166,\n",
       "       167, 168, 170, 173, 184, 186, 187, 189, 190, 191, 195, 196, 201,\n",
       "       207, 208, 210, 211, 215, 217, 218, 219, 220, 224, 228, 229, 233,\n",
       "       234, 237, 238, 242, 243, 244, 245, 246, 247, 252, 253, 254, 255,\n",
       "       256, 259, 260, 261, 262, 263, 264, 266, 269, 270, 271, 274, 276,\n",
       "       277, 278, 281, 282, 283, 287, 290, 292, 296, 298, 299, 301, 302,\n",
       "       303, 306, 307, 313, 316, 319, 320, 323, 324, 325, 326, 329, 331,\n",
       "       332, 336, 337, 339, 341, 348, 349, 350, 351, 354, 357, 358, 359,\n",
       "       360, 361, 362, 364, 366, 367, 368, 369, 373, 377, 378, 380, 381,\n",
       "       383, 385, 389, 390, 392, 393, 395, 401, 403, 404, 405, 406, 408,\n",
       "       410, 413, 415, 420, 421, 422, 424, 425, 428, 430, 433, 434, 435,\n",
       "       442, 443, 446, 448, 449, 450, 454, 461, 466, 467, 469, 472, 474,\n",
       "       475, 477, 478, 479, 482, 483, 485, 487, 489, 491, 493, 494, 495,\n",
       "       497, 498, 499, 500, 501, 503, 506, 507, 509, 514, 516, 517, 520,\n",
       "       523, 527, 528, 531, 533, 534, 536, 537, 538, 539, 541, 545, 547,\n",
       "       548, 550, 551, 554, 555, 559, 560, 561, 562, 563, 564, 566, 568,\n",
       "       569, 570, 571, 574, 582, 583, 584, 585, 586, 587, 588, 590, 591,\n",
       "       592, 594, 598, 602, 603, 604, 605, 606, 607, 608, 609, 610, 611,\n",
       "       613, 618, 619, 622, 623, 625, 627, 628, 629, 630, 631, 632, 634,\n",
       "       635, 636, 638, 644, 645, 647, 648, 649, 651, 654, 655, 656, 657,\n",
       "       661, 665, 666, 667, 668, 670, 674, 676, 679, 680, 681, 689, 690,\n",
       "       693, 695, 697, 703, 708, 709, 712, 713, 714, 718, 720, 721, 722,\n",
       "       723, 724, 725, 729, 730, 735, 736, 741, 743, 745, 746, 750, 751,\n",
       "       754, 755, 758, 759, 760, 761, 762, 764, 766, 767, 769, 770, 772,\n",
       "       774, 775, 776, 778, 780, 782, 784, 785, 787, 789, 790, 792, 793,\n",
       "       796, 799, 800, 801, 804, 805, 806, 807, 808, 813, 814, 816, 817,\n",
       "       820, 823, 831, 836, 837, 838, 841, 842, 843, 845, 847, 849, 850,\n",
       "       851, 852, 853, 855, 857, 858, 861, 865, 866, 870, 872, 873, 875,\n",
       "       876, 885, 888, 892, 893, 896, 900, 902, 903, 904, 905, 907, 910,\n",
       "       914, 917, 918, 919, 921, 922, 926, 928, 934, 938, 939, 940, 942,\n",
       "       943, 945, 947, 949, 950, 953, 956, 958, 959, 961, 964, 966, 968,\n",
       "       970, 971, 972, 975, 977, 980, 981, 983, 985, 986, 987, 988, 991,\n",
       "       992, 993, 994, 995, 997, 999])"
      ]
     },
     "execution_count": 177,
     "metadata": {},
     "output_type": "execute_result"
    }
   ],
   "source": [
    "np.random.seed(2)\n",
    "folds = KFold(1000, n_folds = 2, shuffle = True)\n",
    "for train, test in folds:\n",
    "    filter = train \n",
    "    break\n",
    "filter"
   ]
  },
  {
   "cell_type": "code",
   "execution_count": null,
   "metadata": {
    "collapsed": true
   },
   "outputs": [],
   "source": []
  }
 ],
 "metadata": {
  "kernelspec": {
   "display_name": "Python 3",
   "language": "python",
   "name": "python3"
  },
  "language_info": {
   "codemirror_mode": {
    "name": "ipython",
    "version": 3
   },
   "file_extension": ".py",
   "mimetype": "text/x-python",
   "name": "python",
   "nbconvert_exporter": "python",
   "pygments_lexer": "ipython3",
   "version": "3.5.1"
  }
 },
 "nbformat": 4,
 "nbformat_minor": 0
}
