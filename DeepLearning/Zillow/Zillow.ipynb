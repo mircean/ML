{
 "cells": [
  {
   "cell_type": "code",
   "execution_count": 1,
   "metadata": {
    "collapsed": false
   },
   "outputs": [
    {
     "name": "stderr",
     "output_type": "stream",
     "text": [
      "Using TensorFlow backend.\n"
     ]
    }
   ],
   "source": [
    "import numpy as np\n",
    "import pandas as pd\n",
    "import matplotlib.pyplot as plt\n",
    "import pickle\n",
    "import importlib\n",
    "\n",
    "import sklearn\n",
    "#baseline linear regression\n",
    "from sklearn import linear_model\n",
    "#import sklearn.linear_model\n",
    "#normalization\n",
    "from sklearn import preprocessing\n",
    "#train/test split\n",
    "from sklearn.model_selection import train_test_split\n",
    "#from sklearn.cross_validation import train_test_split\n",
    "#metrics\n",
    "from sklearn.metrics import mean_absolute_error\n",
    "\n",
    "#dnn\n",
    "import os,sys,inspect\n",
    "currentdir = os.path.dirname(os.path.abspath(inspect.getfile(inspect.currentframe())))\n",
    "parentdir = os.path.dirname(currentdir)\n",
    "sys.path.insert(0,parentdir) \n",
    "import DNN\n",
    "\n",
    "#keras\n",
    "import keras\n",
    "from keras.models import Sequential\n",
    "from keras.layers import Dense\n",
    "from keras import optimizers\n",
    "from keras import regularizers\n",
    "\n",
    "%matplotlib inline"
   ]
  },
  {
   "cell_type": "code",
   "execution_count": 2,
   "metadata": {
    "collapsed": false
   },
   "outputs": [
    {
     "name": "stdout",
     "output_type": "stream",
     "text": [
      "3.6.2\n"
     ]
    }
   ],
   "source": [
    "import platform\n",
    "print(platform.python_version())"
   ]
  },
  {
   "cell_type": "code",
   "execution_count": 2,
   "metadata": {
    "collapsed": false
   },
   "outputs": [
    {
     "data": {
      "text/plain": [
       "<module 'DNN' from 'C:\\\\Users\\\\mircean\\\\git\\\\DeepLearning\\\\DNN.py'>"
      ]
     },
     "execution_count": 2,
     "metadata": {},
     "output_type": "execute_result"
    }
   ],
   "source": [
    "importlib.reload(DNN)"
   ]
  },
  {
   "cell_type": "code",
   "execution_count": 4,
   "metadata": {
    "collapsed": false
   },
   "outputs": [
    {
     "data": {
      "text/html": [
       "<style>.container { width:50% !important; }</style>"
      ],
      "text/plain": [
       "<IPython.core.display.HTML object>"
      ]
     },
     "metadata": {},
     "output_type": "display_data"
    }
   ],
   "source": [
    "from IPython.core.display import display, HTML\n",
    "display(HTML(\"<style>.container { width:50% !important; }</style>\"))"
   ]
  },
  {
   "cell_type": "code",
   "execution_count": 3,
   "metadata": {
    "collapsed": false,
    "scrolled": true
   },
   "outputs": [
    {
     "name": "stderr",
     "output_type": "stream",
     "text": [
      "C:\\Anaconda5\\lib\\site-packages\\IPython\\core\\interactiveshell.py:2698: DtypeWarning: Columns (22,32,34,49,55) have mixed types. Specify dtype option on import or set low_memory=False.\n",
      "  interactivity=interactivity, compiler=compiler, result=result)\n"
     ]
    },
    {
     "name": "stdout",
     "output_type": "stream",
     "text": [
      "(2985217, 58)\n",
      "(90275, 3)\n"
     ]
    }
   ],
   "source": [
    "df1 = pd.read_csv(r'..\\Zillow\\properties_2016.csv')\n",
    "print(df1.shape)\n",
    "df2 = pd.read_csv(r'..\\Zillow\\train_2016_v2.csv')\n",
    "print(df2.shape)\n"
   ]
  },
  {
   "cell_type": "code",
   "execution_count": 4,
   "metadata": {
    "collapsed": false,
    "scrolled": true
   },
   "outputs": [
    {
     "data": {
      "text/plain": [
       "(85670, 3)"
      ]
     },
     "execution_count": 4,
     "metadata": {},
     "output_type": "execute_result"
    }
   ],
   "source": [
    "#df2[df2.transactiondate >= '2016-10-15']\n",
    "df2[df2.transactiondate < '2016-10-15'].shape\n",
    "#max(df2.transactiondate)"
   ]
  },
  {
   "cell_type": "code",
   "execution_count": 5,
   "metadata": {
    "collapsed": false
   },
   "outputs": [
    {
     "name": "stdout",
     "output_type": "stream",
     "text": [
      "(87972, 55)\n",
      "(2303, 55)\n"
     ]
    }
   ],
   "source": [
    "df_train = df2.merge(df1, how='left', on='parcelid')\n",
    "\n",
    "#revisit this fillna\n",
    "df_train = df_train.fillna(0)\n",
    "\n",
    "df_train['taxdelinquencyflag'] = df_train.taxdelinquencyflag.apply(lambda x: 1 if x == 'Y' else 0 )\n",
    "df_train['fireplaceflag'] = df_train.hashottuborspa.astype(int)\n",
    "df_train['hashottuborspa'] = df_train.hashottuborspa.astype(int)\n",
    "\n",
    "#use all old data for training\n",
    "#split the new data, 50% train, 50% dev\n",
    "df_train_1 = df_train[df_train.transactiondate < '2016-10-15']\n",
    "df_train_2 = df_train[df_train.transactiondate >= '2016-10-15']\n",
    "\n",
    "train_index, dev_index = train_test_split(df_train_2.index, test_size=0.5, random_state=0)\n",
    "df_train = pd.concat([df_train_1, df_train_2.loc[train_index]])\n",
    "df_dev = df_train_2.loc[dev_index]\n",
    "\n",
    "y_train = df_train.logerror.values\n",
    "y_dev = df_dev.logerror.values\n",
    "\n",
    "df_train = df_train.drop(['parcelid', 'logerror', 'transactiondate', 'propertyzoningdesc', 'propertycountylandusecode'], axis=1)\n",
    "df_dev = df_dev.drop(['parcelid', 'logerror', 'transactiondate', 'propertyzoningdesc', 'propertycountylandusecode'], axis=1)\n",
    "\n",
    "X_train = df_train.values\n",
    "X_dev = df_dev.values\n",
    "\n",
    "print(X_train.shape)\n",
    "print(X_dev.shape)"
   ]
  },
  {
   "cell_type": "code",
   "execution_count": 6,
   "metadata": {
    "collapsed": true
   },
   "outputs": [],
   "source": [
    "#normalization - mean, var from train set, apply to dev set and test set\n",
    "scaler = preprocessing.StandardScaler().fit(X_train)\n",
    "\n",
    "X_train = scaler.transform(X_train)   \n",
    "X_dev = scaler.transform(X_dev)\n",
    "\n",
    "X_train_k = X_train\n",
    "X_dev_k = X_dev\n",
    "Y_train_k = y_train.reshape(y_train.shape[0], 1)\n",
    "Y_dev_k = y_dev.reshape(y_dev.shape[0], 1)\n",
    "\n",
    "X_train_my = X_train.T\n",
    "X_dev_my = X_dev.T\n",
    "Y_train_my = y_train.reshape(1, y_train.shape[0])\n",
    "Y_dev_my = y_dev.reshape(1, y_dev.shape[0])\n",
    "\n"
   ]
  },
  {
   "cell_type": "code",
   "execution_count": 9,
   "metadata": {
    "collapsed": false
   },
   "outputs": [
    {
     "name": "stdout",
     "output_type": "stream",
     "text": [
      "0.0683074122879\n",
      "0.0710661821951\n"
     ]
    }
   ],
   "source": [
    "np.random.seed(0) # set a seed so that the results are consistent\n",
    "regr = linear_model.LinearRegression()\n",
    "regr.fit(X_train, y_train)\n",
    "y_pred = regr.predict(X_train)\n",
    "print(mean_absolute_error(y_train, y_pred))\n",
    "y_pred = regr.predict(X_dev)\n",
    "print(mean_absolute_error(y_dev, y_pred))"
   ]
  },
  {
   "cell_type": "code",
   "execution_count": 7,
   "metadata": {
    "collapsed": true
   },
   "outputs": [],
   "source": [
    "class MyCallback(keras.callbacks.Callback):\n",
    "    def __init__(self, verbose):\n",
    "        self.verbose = verbose\n",
    "\n",
    "    def on_epoch_begin(self, epoch, logs=None):\n",
    "        pass\n",
    "\n",
    "    def on_epoch_end(self, epoch, logs=None):\n",
    "        if self.verbose != None and epoch % self.verbose == 0:\n",
    "            print(epoch, logs['loss'], logs['mean_absolute_error'], logs['val_mean_absolute_error']) "
   ]
  },
  {
   "cell_type": "code",
   "execution_count": 10,
   "metadata": {
    "collapsed": true
   },
   "outputs": [],
   "source": [
    "np.random.seed(0)\n",
    "model = Sequential()\n",
    "\n",
    "initializer = keras.initializers.he_normal()\n",
    "\n",
    "regularizer = None\n",
    "\n",
    "model.add(Dense(100, input_dim=X_train_k.shape[1], kernel_initializer=initializer, activation='relu', kernel_regularizer=regularizer))\n",
    "model.add(Dense(20, kernel_initializer=initializer, activation='relu'))\n",
    "#model.add(Dense(20, kernel_initializer=initializer, activation='relu'))\n",
    "model.add(Dense(1, kernel_initializer=initializer))\n",
    "\n",
    "#optimizer = optimizers.SGD(lr=0.05, momentum=0.9)\n",
    "#optimizer = optimizers.RMSprop(lr=0.01)\n",
    "optimizer = optimizers.Adam(lr=0.005)\n",
    "\n",
    "model.compile(loss='mean_squared_error', optimizer=optimizer, metrics=['mae'])\n",
    "\n",
    "results_k = {'loss': [], 'eval0': []}"
   ]
  },
  {
   "cell_type": "code",
   "execution_count": 11,
   "metadata": {
    "collapsed": false,
    "scrolled": true
   },
   "outputs": [
    {
     "name": "stdout",
     "output_type": "stream",
     "text": [
      "0 0.0367049118399 0.0880141962608 0.072243984897\n",
      "10 0.0257207859538 0.0690192610553 0.0725026416244\n",
      "20 0.0262263047524 0.0691210498 0.0715653259684\n",
      "30 0.0256708692797 0.0689763535848 0.0718260483733\n",
      "40 0.0256870149762 0.0689584433352 0.071545965824\n",
      "50 0.0255188171343 0.0689776337597 0.0709854542653\n",
      "60 0.0254559158795 0.0688510233552 0.0728517379927\n",
      "70 0.0256183924012 0.0687386739909 0.0713623790762\n",
      "80 0.0255158078948 0.0687632279239 0.0708649374425\n",
      "90 0.0253848011869 0.0685865413818 0.0721621552447\n",
      "0.0686328811312\n",
      "0.0708894346471\n"
     ]
    }
   ],
   "source": [
    "initial_epoch = 0\n",
    "epochs = 100\n",
    "verbose = 0\n",
    "verbose2 = 10\n",
    "#batch_size = int(X_train_k.shape[0])\n",
    "batch_size = 512\n",
    "\n",
    "results_k_tmp = model.fit(X_train_k, Y_train_k, batch_size=batch_size, epochs=epochs, callbacks=[MyCallback(verbose2)], validation_data = (X_dev_k, Y_dev_k), verbose=verbose, initial_epoch=initial_epoch)\n",
    "\n",
    "Y_predict_k = model.predict(X_train_k)\n",
    "print(mean_absolute_error(Y_train_k, Y_predict_k))\n",
    "Y_predict_k = model.predict(X_dev_k)\n",
    "print(mean_absolute_error(Y_dev_k, Y_predict_k))\n",
    "\n",
    "results_k['loss'] += results_k_tmp.history['loss']\n",
    "results_k['eval0'] += results_k_tmp.history['mean_absolute_error']"
   ]
  },
  {
   "cell_type": "code",
   "execution_count": null,
   "metadata": {
    "collapsed": true
   },
   "outputs": [],
   "source": [
    "model.save('keras.h5')"
   ]
  },
  {
   "cell_type": "code",
   "execution_count": 27,
   "metadata": {
    "collapsed": false
   },
   "outputs": [
    {
     "data": {
      "image/png": "[encoded data removed]",
      "text/plain": [
       "<matplotlib.figure.Figure at 0x283d145f6d8>"
      ]
     },
     "metadata": {},
     "output_type": "display_data"
    }
   ],
   "source": [
    "#plt.plot(results_k['loss'])\n",
    "#plt.show()\n",
    "df_loss_k = pd.DataFrame(results_k['loss'][500:])\n",
    "df_loss_k[0].ewm(span=50).mean().plot(style='k')"
   ]
  },
  {
   "cell_type": "code",
   "execution_count": 28,
   "metadata": {
    "collapsed": false
   },
   "outputs": [
    {
     "data": {
      "image/png": "[encoded data removed]",
      "text/plain": [
       "<matplotlib.figure.Figure at 0x283d169e208>"
      ]
     },
     "metadata": {},
     "output_type": "display_data"
    }
   ],
   "source": [
    "#plt.plot(results_k['eval0'])\n",
    "#plt.show()\n",
    "df_eval0_k = pd.DataFrame(results_k['eval0'][100:])\n",
    "df_eval0_k[0].ewm(span=50).mean().plot(style='k')"
   ]
  },
  {
   "cell_type": "code",
   "execution_count": 29,
   "metadata": {
    "collapsed": false
   },
   "outputs": [
    {
     "data": {
      "image/png": "[encoded data removed]",
      "text/plain": [
       "<matplotlib.figure.Figure at 0x283d16ffb00>"
      ]
     },
     "metadata": {},
     "output_type": "display_data"
    }
   ],
   "source": [
    "plt.plot(results_k.history['val_mean_absolute_error'])\n",
    "plt.show()"
   ]
  },
  {
   "cell_type": "code",
   "execution_count": 128,
   "metadata": {
    "collapsed": false
   },
   "outputs": [
    {
     "data": {
      "text/plain": [
       "<module 'DNN' from 'C:\\\\Users\\\\mircean\\\\git\\\\DeepLearning\\\\DNN.py'>"
      ]
     },
     "execution_count": 128,
     "metadata": {},
     "output_type": "execute_result"
    }
   ],
   "source": [
    "importlib.reload(DNN)"
   ]
  },
  {
   "cell_type": "code",
   "execution_count": 129,
   "metadata": {
    "collapsed": true
   },
   "outputs": [],
   "source": [
    "#random seed for parameters init and mini batch shuffle\n",
    "np.random.seed(0)\n",
    "dnn = DNN.DNN()\n",
    "dnn.add_input_layer(X_train_my.shape[0])\n",
    "dnn.add_layer(100, DNN.relu)\n",
    "dnn.add_layer(20, DNN.relu)\n",
    "#dnn.add_layer(20, DNN.relu)\n",
    "dnn.add_layer(1, DNN.identity)\n",
    "dnn.costfunction = DNN.mean_squared_error\n",
    "dnn.init = 'He'\n",
    "dnn.optimizer = 'Adam'\n",
    "dnn.compile()\n",
    "\n",
    "results_my = {'loss': [], 'eval0': [], 'eval1': []}"
   ]
  },
  {
   "cell_type": "code",
   "execution_count": 7,
   "metadata": {
    "collapsed": true
   },
   "outputs": [],
   "source": [
    "dnn = DNN.DNN.load('file1.pickle')"
   ]
  },
  {
   "cell_type": "code",
   "execution_count": 30,
   "metadata": {
    "collapsed": false,
    "scrolled": true
   },
   "outputs": [
    {
     "name": "stdout",
     "output_type": "stream",
     "text": [
      "2017-10-07 09:26:06.768659 Cost after iteration 0 ['0.023958', '0.064866', '0.077079']\n",
      "2017-10-07 09:41:00.277809 Cost after iteration 1000 ['0.023959', '0.064829', '0.077027']\n",
      "2017-10-07 09:56:45.035674 Cost after iteration 2000 ['0.023961', '0.064559', '0.077044']\n",
      "2017-10-07 10:12:30.948125 Cost after iteration 3000 ['0.023960', '0.064550', '0.076995']\n",
      "2017-10-07 10:28:31.538396 Cost after iteration 4000 ['0.023958', '0.065112', '0.077181']\n",
      "2017-10-07 10:44:22.243726 Cost after iteration 5000 ['0.023958', '0.064741', '0.077036']\n",
      "2017-10-07 11:00:13.385528 Cost after iteration 6000 ['0.023961', '0.064842', '0.077053']\n",
      "2017-10-07 11:16:05.917288 Cost after iteration 7000 ['0.023959', '0.064951', '0.077137']\n",
      "2017-10-07 11:31:57.028428 Cost after iteration 8000 ['0.023957', '0.065197', '0.077193']\n",
      "2017-10-07 11:47:50.452312 Cost after iteration 9000 ['0.023960', '0.065341', '0.077201']\n",
      "2017-10-07 12:03:43.536779 Cost after iteration 10000 ['0.023957', '0.064715', '0.077068']\n",
      "2017-10-07 12:19:36.897349 Cost after iteration 11000 ['0.023957', '0.064764', '0.077093']\n",
      "2017-10-07 12:35:29.574214 Cost after iteration 12000 ['0.023958', '0.064790', '0.077112']\n",
      "2017-10-07 12:51:28.373290 Cost after iteration 13000 ['0.023957', '0.064751', '0.077070']\n",
      "2017-10-07 13:07:43.666094 Cost after iteration 14000 ['0.023958', '0.064789', '0.077125']\n",
      "2017-10-07 13:23:54.192930 Cost after iteration 15000 ['0.023956', '0.065199', '0.077227']\n",
      "2017-10-07 13:39:56.141415 Cost after iteration 16000 ['0.023958', '0.064792', '0.077117']\n",
      "2017-10-07 13:56:05.362778 Cost after iteration 17000 ['0.023956', '0.064512', '0.077054']\n",
      "2017-10-07 14:12:19.976198 Cost after iteration 18000 ['0.023957', '0.065611', '0.077412']\n",
      "2017-10-07 14:28:33.462188 Cost after iteration 19000 ['0.023957', '0.064784', '0.077120']\n",
      "2017-10-07 14:44:44.757441 Cost after iteration 20000 ['0.023959', '0.064820', '0.077122']\n",
      "2017-10-07 15:00:41.999675 Cost after iteration 21000 ['0.023957', '0.064677', '0.077122']\n",
      "2017-10-07 15:16:36.669243 Cost after iteration 22000 ['0.023958', '0.064706', '0.077154']\n",
      "2017-10-07 15:32:31.938148 Cost after iteration 23000 ['0.023956', '0.064729', '0.077091']\n",
      "2017-10-07 15:48:31.099715 Cost after iteration 24000 ['0.023958', '0.064590', '0.076998']\n",
      "2017-10-07 16:04:25.721871 Cost after iteration 25000 ['0.023958', '0.065090', '0.077217']\n",
      "2017-10-07 16:20:18.507842 Cost after iteration 26000 ['0.023961', '0.065141', '0.077213']\n",
      "2017-10-07 16:36:18.276237 Cost after iteration 27000 ['0.023958', '0.065025', '0.077190']\n",
      "2017-10-07 16:52:12.410122 Cost after iteration 28000 ['0.023961', '0.064685', '0.077052']\n",
      "2017-10-07 17:08:06.578095 Cost after iteration 29000 ['0.023958', '0.065143', '0.077260']\n",
      "2017-10-07 17:24:01.265408 Cost after iteration 30000 ['0.023959', '0.064827', '0.077092']\n",
      "2017-10-07 17:39:54.154789 Cost after iteration 31000 ['0.023957', '0.064736', '0.077127']\n",
      "2017-10-07 17:55:49.962410 Cost after iteration 32000 ['0.023958', '0.065126', '0.077278']\n",
      "2017-10-07 18:11:45.538134 Cost after iteration 33000 ['0.023958', '0.064954', '0.077177']\n",
      "2017-10-07 18:27:38.583103 Cost after iteration 34000 ['0.023956', '0.065482', '0.077392']\n",
      "2017-10-07 18:43:46.883393 Cost after iteration 35000 ['0.023957', '0.065144', '0.077236']\n",
      "2017-10-07 19:02:26.928186 Cost after iteration 36000 ['0.023959', '0.064791', '0.077103']\n",
      "2017-10-07 19:21:12.497641 Cost after iteration 37000 ['0.023957', '0.064948', '0.077127']\n",
      "2017-10-07 19:37:07.198347 Cost after iteration 38000 ['0.023959', '0.064837', '0.077167']\n",
      "2017-10-07 19:52:58.004793 Cost after iteration 39000 ['0.023961', '0.065191', '0.077330']\n",
      "2017-10-07 20:08:48.191567 Cost after iteration 40000 ['0.023957', '0.065086', '0.077276']\n",
      "2017-10-07 20:24:38.262904 Cost after iteration 41000 ['0.023958', '0.065079', '0.077214']\n",
      "2017-10-07 20:40:27.534462 Cost after iteration 42000 ['0.023956', '0.065608', '0.077425']\n",
      "2017-10-07 20:56:17.009735 Cost after iteration 43000 ['0.023954', '0.064531', '0.077224']\n",
      "2017-10-07 21:12:06.547554 Cost after iteration 44000 ['0.023957', '0.064699', '0.077118']\n",
      "2017-10-07 21:27:56.156014 Cost after iteration 45000 ['0.023957', '0.064634', '0.077124']\n",
      "2017-10-07 21:43:46.047997 Cost after iteration 46000 ['0.023958', '0.064556', '0.077142']\n",
      "2017-10-07 21:59:35.955775 Cost after iteration 47000 ['0.023957', '0.065121', '0.077258']\n",
      "2017-10-07 22:15:24.674169 Cost after iteration 48000 ['0.023956', '0.064622', '0.077113']\n",
      "2017-10-07 22:31:11.645278 Cost after iteration 49000 ['0.023958', '0.064517', '0.077129']\n",
      "2017-10-07 22:46:59.528295 Cost after iteration 50000 ['0.023959', '0.064782', '0.077213']\n",
      "2017-10-07 23:02:48.415471 Cost after iteration 51000 ['0.023957', '0.064797', '0.077205']\n",
      "2017-10-07 23:18:37.146273 Cost after iteration 52000 ['0.023957', '0.065006', '0.077235']\n",
      "2017-10-07 23:34:25.608439 Cost after iteration 53000 ['0.023958', '0.064691', '0.077197']\n",
      "2017-10-07 23:50:13.136318 Cost after iteration 54000 ['0.023957', '0.064806', '0.077187']\n",
      "2017-10-08 00:06:00.730610 Cost after iteration 55000 ['0.023958', '0.064962', '0.077274']\n",
      "2017-10-08 00:21:47.955759 Cost after iteration 56000 ['0.023956', '0.064613', '0.077186']\n",
      "2017-10-08 00:37:37.051496 Cost after iteration 57000 ['0.023960', '0.064667', '0.077169']\n",
      "2017-10-08 00:53:30.027855 Cost after iteration 58000 ['0.023956', '0.065335', '0.077359']\n",
      "2017-10-08 01:09:19.887939 Cost after iteration 59000 ['0.023954', '0.065162', '0.077356']\n",
      "2017-10-08 01:25:10.025682 Cost after iteration 60000 ['0.023958', '0.065079', '0.077275']\n",
      "2017-10-08 01:40:58.525024 Cost after iteration 61000 ['0.023958', '0.064825', '0.077221']\n",
      "2017-10-08 01:56:53.991419 Cost after iteration 62000 ['0.023961', '0.065216', '0.077373']\n",
      "2017-10-08 02:12:50.878900 Cost after iteration 63000 ['0.023955', '0.064497', '0.077269']\n",
      "2017-10-08 02:28:53.300152 Cost after iteration 64000 ['0.023958', '0.065040', '0.077347']\n",
      "2017-10-08 02:44:52.136069 Cost after iteration 65000 ['0.023959', '0.065014', '0.077307']\n",
      "2017-10-08 03:00:53.177333 Cost after iteration 66000 ['0.023956', '0.064888', '0.077303']\n",
      "2017-10-08 03:17:21.086886 Cost after iteration 67000 ['0.023960', '0.065240', '0.077411']\n",
      "2017-10-08 03:33:58.991307 Cost after iteration 68000 ['0.023958', '0.065523', '0.077457']\n",
      "2017-10-08 03:50:35.854283 Cost after iteration 69000 ['0.023957', '0.064727', '0.077226']\n",
      "2017-10-08 04:07:12.909750 Cost after iteration 70000 ['0.023960', '0.064792', '0.077198']\n",
      "2017-10-08 04:23:50.372372 Cost after iteration 71000 ['0.023960', '0.064564', '0.077168']\n",
      "2017-10-08 04:40:30.779837 Cost after iteration 72000 ['0.023956', '0.064769', '0.077237']\n",
      "2017-10-08 04:57:04.856725 Cost after iteration 73000 ['0.023957', '0.064763', '0.077261']\n",
      "2017-10-08 05:13:40.611787 Cost after iteration 74000 ['0.023956', '0.065715', '0.077727']\n",
      "2017-10-08 05:30:16.479108 Cost after iteration 75000 ['0.023958', '0.064882', '0.077209']\n",
      "2017-10-08 05:46:51.514696 Cost after iteration 76000 ['0.023956', '0.064563', '0.077283']\n",
      "2017-10-08 06:03:24.585353 Cost after iteration 77000 ['0.023956', '0.064576', '0.077208']\n",
      "2017-10-08 06:19:58.507470 Cost after iteration 78000 ['0.023956', '0.065053', '0.077356']\n",
      "2017-10-08 06:36:29.725361 Cost after iteration 79000 ['0.023958', '0.064919', '0.077289']\n",
      "2017-10-08 06:53:01.321355 Cost after iteration 80000 ['0.023956', '0.064651', '0.077183']\n",
      "2017-10-08 07:09:32.622647 Cost after iteration 81000 ['0.023960', '0.064842', '0.077290']\n",
      "2017-10-08 07:26:05.337986 Cost after iteration 82000 ['0.023957', '0.064793', '0.077317']\n",
      "2017-10-08 07:42:40.006403 Cost after iteration 83000 ['0.023958', '0.064822', '0.077271']\n",
      "2017-10-08 07:59:14.071915 Cost after iteration 84000 ['0.023955', '0.064543', '0.077207']\n",
      "2017-10-08 08:15:49.245221 Cost after iteration 85000 ['0.023958', '0.064992', '0.077324']\n",
      "2017-10-08 08:32:23.659030 Cost after iteration 86000 ['0.023958', '0.064842', '0.077303']\n",
      "2017-10-08 08:48:56.612324 Cost after iteration 87000 ['0.023959', '0.064708', '0.077303']\n",
      "2017-10-08 09:05:30.496272 Cost after iteration 88000 ['0.023958', '0.064710', '0.077288']\n",
      "2017-10-08 09:22:04.239858 Cost after iteration 89000 ['0.023958', '0.064640', '0.077211']\n",
      "2017-10-08 09:38:40.478947 Cost after iteration 90000 ['0.023957', '0.064833', '0.077258']\n",
      "2017-10-08 09:55:14.328659 Cost after iteration 91000 ['0.023955', '0.064998', '0.077405']\n",
      "2017-10-08 10:11:49.855010 Cost after iteration 92000 ['0.023958', '0.064700', '0.077239']\n",
      "2017-10-08 10:28:23.991647 Cost after iteration 93000 ['0.023959', '0.064868', '0.077276']\n",
      "2017-10-08 10:44:57.266519 Cost after iteration 94000 ['0.023959', '0.064848', '0.077265']\n",
      "2017-10-08 11:01:33.204959 Cost after iteration 95000 ['0.023958', '0.065200', '0.077419']\n",
      "2017-10-08 11:18:04.201916 Cost after iteration 96000 ['0.023958', '0.065360', '0.077539']\n",
      "2017-10-08 11:34:37.560920 Cost after iteration 97000 ['0.023960', '0.064847', '0.077369']\n",
      "2017-10-08 11:51:14.997686 Cost after iteration 98000 ['0.023959', '0.064869', '0.077315']\n",
      "2017-10-08 12:08:03.560265 Cost after iteration 99000 ['0.023954', '0.065768', '0.077785']\n",
      "2017-10-08 12:24:12.015550 Cost after iteration 100000 ['0.023957', '0.064746', '0.077284']\n",
      "2017-10-08 12:40:15.526921 Cost after iteration 101000 ['0.023957', '0.065117', '0.077418']\n",
      "2017-10-08 12:56:39.474599 Cost after iteration 102000 ['0.023957', '0.065285', '0.077534']\n",
      "2017-10-08 13:13:16.935116 Cost after iteration 103000 ['0.023958', '0.064880', '0.077313']\n",
      "2017-10-08 13:29:51.007405 Cost after iteration 104000 ['0.023959', '0.064746', '0.077327']\n",
      "2017-10-08 13:45:16.730304 Cost after iteration 105000 ['0.023958', '0.064932', '0.077405']\n",
      "2017-10-08 14:00:37.423135 Cost after iteration 106000 ['0.023957', '0.064908', '0.077353']\n",
      "2017-10-08 14:15:57.146935 Cost after iteration 107000 ['0.023959', '0.064631', '0.077366']\n",
      "2017-10-08 14:31:18.497335 Cost after iteration 108000 ['0.023956', '0.064651', '0.077300']\n",
      "2017-10-08 14:46:42.401672 Cost after iteration 109000 ['0.023959', '0.065394', '0.077561']\n",
      "2017-10-08 15:03:06.530681 Cost after iteration 110000 ['0.023956', '0.064786', '0.077330']\n",
      "2017-10-08 15:19:39.931124 Cost after iteration 111000 ['0.023958', '0.065187', '0.077487']\n",
      "2017-10-08 15:36:14.265219 Cost after iteration 112000 ['0.023959', '0.064714', '0.077369']\n",
      "2017-10-08 15:52:52.738913 Cost after iteration 113000 ['0.023958', '0.064722', '0.077313']\n",
      "2017-10-08 16:09:29.325058 Cost after iteration 114000 ['0.023959', '0.064712', '0.077264']\n",
      "2017-10-08 16:26:05.460032 Cost after iteration 115000 ['0.023957', '0.064875', '0.077339']\n",
      "2017-10-08 16:42:40.305934 Cost after iteration 116000 ['0.023959', '0.064542', '0.077267']\n",
      "2017-10-08 16:59:15.705589 Cost after iteration 117000 ['0.023958', '0.064576', '0.077307']\n",
      "2017-10-08 17:15:50.136974 Cost after iteration 118000 ['0.023958', '0.065053', '0.077466']\n",
      "2017-10-08 17:32:24.356023 Cost after iteration 119000 ['0.023960', '0.064756', '0.077341']\n",
      "2017-10-08 17:48:57.850083 Cost after iteration 120000 ['0.023959', '0.065440', '0.077558']\n",
      "2017-10-08 18:05:29.552400 Cost after iteration 121000 ['0.023959', '0.064924', '0.077476']\n",
      "2017-10-08 18:22:00.873347 Cost after iteration 122000 ['0.023957', '0.064886', '0.077307']\n",
      "2017-10-08 18:38:34.862024 Cost after iteration 123000 ['0.023957', '0.065508', '0.077674']\n",
      "2017-10-08 18:55:08.661428 Cost after iteration 124000 ['0.023959', '0.064970', '0.077440']\n",
      "2017-10-08 19:11:40.182870 Cost after iteration 125000 ['0.023958', '0.064548', '0.077291']\n",
      "2017-10-08 19:28:13.053379 Cost after iteration 126000 ['0.023958', '0.065225', '0.077594']\n",
      "2017-10-08 19:44:46.727778 Cost after iteration 127000 ['0.023958', '0.064760', '0.077282']\n",
      "2017-10-08 20:01:17.358209 Cost after iteration 128000 ['0.023960', '0.064877', '0.077328']\n",
      "2017-10-08 20:17:48.076960 Cost after iteration 129000 ['0.023957', '0.064689', '0.077357']\n",
      "2017-10-08 20:34:21.331258 Cost after iteration 130000 ['0.023957', '0.065288', '0.077557']\n",
      "2017-10-08 20:50:52.589585 Cost after iteration 131000 ['0.023957', '0.064973', '0.077447']\n",
      "2017-10-08 21:07:24.990006 Cost after iteration 132000 ['0.023958', '0.064794', '0.077346']\n",
      "2017-10-08 21:23:58.471100 Cost after iteration 133000 ['0.023958', '0.065195', '0.077493']\n",
      "2017-10-08 21:40:31.379112 Cost after iteration 134000 ['0.023958', '0.065038', '0.077437']\n",
      "2017-10-08 21:57:06.284327 Cost after iteration 135000 ['0.023953', '0.065379', '0.077611']\n",
      "2017-10-08 22:13:40.949314 Cost after iteration 136000 ['0.023956', '0.065015', '0.077476']\n",
      "2017-10-08 22:30:13.703870 Cost after iteration 137000 ['0.023958', '0.065113', '0.077496']\n",
      "2017-10-08 22:46:45.564430 Cost after iteration 138000 ['0.023957', '0.064833', '0.077407']\n",
      "2017-10-08 23:03:18.349101 Cost after iteration 139000 ['0.023958', '0.064888', '0.077454']\n",
      "2017-10-08 23:19:51.769020 Cost after iteration 140000 ['0.023957', '0.065124', '0.077482']\n",
      "2017-10-08 23:36:22.983757 Cost after iteration 141000 ['0.023959', '0.064790', '0.077410']\n",
      "2017-10-08 23:52:54.802169 Cost after iteration 142000 ['0.023956', '0.065239', '0.077495']\n",
      "2017-10-09 00:09:27.804298 Cost after iteration 143000 ['0.023961', '0.064601', '0.077365']\n",
      "2017-10-09 00:25:58.373545 Cost after iteration 144000 ['0.023958', '0.065252', '0.077577']\n",
      "2017-10-09 00:42:30.773064 Cost after iteration 145000 ['0.023956', '0.064851', '0.077393']\n",
      "2017-10-09 00:59:01.713142 Cost after iteration 146000 ['0.023958', '0.064678', '0.077438']\n",
      "2017-10-09 01:15:33.815093 Cost after iteration 147000 ['0.023956', '0.064640', '0.077380']\n",
      "2017-10-09 01:32:06.585030 Cost after iteration 148000 ['0.023957', '0.065168', '0.077497']\n",
      "2017-10-09 01:48:38.504083 Cost after iteration 149000 ['0.023956', '0.064792', '0.077431']\n",
      "2017-10-09 02:05:10.115625 Cost after iteration 150000 ['0.023957', '0.065089', '0.077493']\n",
      "2017-10-09 02:21:44.524808 Cost after iteration 151000 ['0.023956', '0.064730', '0.077402']\n",
      "2017-10-09 02:38:19.337100 Cost after iteration 152000 ['0.023958', '0.065129', '0.077419']\n",
      "2017-10-09 02:54:50.203737 Cost after iteration 153000 ['0.023957', '0.065014', '0.077443']\n",
      "2017-10-09 03:11:22.138080 Cost after iteration 154000 ['0.023960', '0.064871', '0.077428']\n",
      "2017-10-09 03:27:51.653962 Cost after iteration 155000 ['0.023956', '0.064989', '0.077375']\n",
      "2017-10-09 03:44:21.703475 Cost after iteration 156000 ['0.023957', '0.064712', '0.077363']\n",
      "2017-10-09 04:00:53.370938 Cost after iteration 157000 ['0.023961', '0.064784', '0.077304']\n",
      "2017-10-09 04:17:26.608717 Cost after iteration 158000 ['0.023959', '0.064933', '0.077388']\n",
      "2017-10-09 04:33:57.867756 Cost after iteration 159000 ['0.023960', '0.065505', '0.077686']\n",
      "2017-10-09 04:50:31.676104 Cost after iteration 160000 ['0.023957', '0.065182', '0.077472']\n",
      "2017-10-09 05:07:01.625390 Cost after iteration 161000 ['0.023958', '0.064725', '0.077318']\n",
      "2017-10-09 05:23:30.843692 Cost after iteration 162000 ['0.023956', '0.065337', '0.077584']\n",
      "2017-10-09 05:39:59.941936 Cost after iteration 163000 ['0.023958', '0.064939', '0.077413']\n",
      "2017-10-09 05:56:27.707399 Cost after iteration 164000 ['0.023957', '0.064875', '0.077363']\n",
      "2017-10-09 06:12:58.894306 Cost after iteration 165000 ['0.023957', '0.065056', '0.077497']\n",
      "2017-10-09 06:29:30.770872 Cost after iteration 166000 ['0.023958', '0.065025', '0.077464']\n",
      "2017-10-09 06:46:01.502332 Cost after iteration 167000 ['0.023956', '0.065245', '0.077587']\n",
      "2017-10-09 07:02:32.600056 Cost after iteration 168000 ['0.023958', '0.064535', '0.077414']\n",
      "2017-10-09 07:18:37.139265 Cost after iteration 169000 ['0.023952', '0.064675', '0.077386']\n",
      "2017-10-09 07:34:40.287543 Cost after iteration 170000 ['0.023958', '0.064797', '0.077375']\n",
      "2017-10-09 07:50:42.995630 Cost after iteration 171000 ['0.023960', '0.064742', '0.077414']\n",
      "2017-10-09 08:06:46.951847 Cost after iteration 172000 ['0.023957', '0.065090', '0.077472']\n",
      "2017-10-09 08:22:49.695534 Cost after iteration 173000 ['0.023957', '0.064666', '0.077399']\n",
      "2017-10-09 08:38:53.453597 Cost after iteration 174000 ['0.023957', '0.065176', '0.077378']\n",
      "2017-10-09 08:55:04.380168 Cost after iteration 175000 ['0.023958', '0.064617', '0.077349']\n",
      "2017-10-09 09:11:09.132339 Cost after iteration 176000 ['0.023958', '0.064917', '0.077319']\n",
      "2017-10-09 09:27:24.902363 Cost after iteration 177000 ['0.023959', '0.064673', '0.077270']\n",
      "2017-10-09 09:43:31.100916 Cost after iteration 178000 ['0.023957', '0.064699', '0.077355']\n",
      "2017-10-09 09:59:34.457690 Cost after iteration 179000 ['0.023959', '0.064769', '0.077435']\n",
      "2017-10-09 10:15:41.099608 Cost after iteration 180000 ['0.023959', '0.064760', '0.077365']\n",
      "2017-10-09 10:31:44.561911 Cost after iteration 181000 ['0.023958', '0.064564', '0.077337']\n",
      "2017-10-09 10:47:50.711353 Cost after iteration 182000 ['0.023955', '0.064714', '0.077362']\n",
      "2017-10-09 11:03:36.557435 Cost after iteration 183000 ['0.023959', '0.064703', '0.077330']\n",
      "2017-10-09 11:19:06.166296 Cost after iteration 184000 ['0.023955', '0.064735', '0.077406']\n",
      "2017-10-09 11:34:31.048096 Cost after iteration 185000 ['0.023957', '0.064737', '0.077455']\n",
      "2017-10-09 11:49:59.886604 Cost after iteration 186000 ['0.023957', '0.065090', '0.077505']\n",
      "2017-10-09 12:05:20.557128 Cost after iteration 187000 ['0.023957', '0.064614', '0.077388']\n",
      "2017-10-09 12:20:41.201136 Cost after iteration 188000 ['0.023956', '0.064876', '0.077436']\n",
      "2017-10-09 12:36:02.436942 Cost after iteration 189000 ['0.023958', '0.065141', '0.077486']\n",
      "2017-10-09 12:51:23.486709 Cost after iteration 190000 ['0.023955', '0.064686', '0.077421']\n",
      "2017-10-09 13:06:45.980615 Cost after iteration 191000 ['0.023957', '0.064573', '0.077309']\n",
      "2017-10-09 13:22:08.189819 Cost after iteration 192000 ['0.023961', '0.065217', '0.077472']\n",
      "2017-10-09 13:37:31.025400 Cost after iteration 193000 ['0.023959', '0.064726', '0.077402']\n",
      "2017-10-09 13:52:54.846647 Cost after iteration 194000 ['0.023958', '0.064927', '0.077462']\n",
      "2017-10-09 14:08:17.664069 Cost after iteration 195000 ['0.023958', '0.064807', '0.077427']\n",
      "2017-10-09 14:23:42.937526 Cost after iteration 196000 ['0.023957', '0.064917', '0.077418']\n",
      "2017-10-09 14:39:33.193671 Cost after iteration 197000 ['0.023958', '0.064770', '0.077414']\n",
      "2017-10-09 14:56:53.955998 Cost after iteration 198000 ['0.023957', '0.065049', '0.077524']\n",
      "2017-10-09 15:12:24.549900 Cost after iteration 199000 ['0.023959', '0.065130', '0.077454']\n",
      "0.0647886465136\n",
      "0.0774420345878\n",
      "800000 137599837\n"
     ]
    }
   ],
   "source": [
    "learning_rate = 0.001\n",
    "epochs = 200000\n",
    "batch_size = 512\n",
    "gradient_check=False\n",
    "verbose = 1000\n",
    "\n",
    "#eval_set = None\n",
    "eval_set = [(X_train_my, Y_train_my), (X_dev_my, Y_dev_my)]\n",
    "results_tmp = dnn.fit(X_train_my, Y_train_my, eval_set=eval_set, eval_metric='mae', learning_rate=learning_rate, epochs=epochs, batch_size=batch_size, gradient_check=gradient_check, verbose=verbose)\n",
    "Y_predict_my = dnn.predict(X_train_my)\n",
    "print(mean_absolute_error(np.reshape(Y_train_my, Y_train_my.shape[1]), np.reshape(Y_predict_my, Y_predict_my.shape[1])))\n",
    "Y_predict_my = dnn.predict(X_dev_my)\n",
    "print(mean_absolute_error(np.reshape(Y_dev_my, Y_dev_my.shape[1]), np.reshape(Y_predict_my, Y_predict_my.shape[1])))\n",
    "\n",
    "if 'results_my' not in locals():\n",
    "    results_my = {'loss': [], 'eval0': [], 'eval1': []}\n",
    "    \n",
    "results_my['loss'] += results_tmp['loss']\n",
    "results_my['eval0'] += results_tmp['eval0']\n",
    "results_my['eval1'] += results_tmp['eval1']\n",
    "\n",
    "print(dnn.epochs, dnn.minibatches)"
   ]
  },
  {
   "cell_type": "code",
   "execution_count": 34,
   "metadata": {
    "collapsed": true
   },
   "outputs": [],
   "source": [
    "dnn.save('file1.pickle')\n",
    "#360K lr=0.005\n",
    "#390K lr=0.001"
   ]
  },
  {
   "cell_type": "code",
   "execution_count": 31,
   "metadata": {
    "collapsed": false
   },
   "outputs": [
    {
     "data": {
      "text/plain": [
       "<matplotlib.axes._subplots.AxesSubplot at 0x231b92fb198>"
      ]
     },
     "execution_count": 31,
     "metadata": {},
     "output_type": "execute_result"
    },
    {
     "data": {
      "image/png": "[encoded data removed]",
      "text/plain": [
       "<matplotlib.figure.Figure at 0x231b9b85be0>"
      ]
     },
     "metadata": {},
     "output_type": "display_data"
    }
   ],
   "source": [
    "#plt.plot(results_my['loss'][100:])\n",
    "#plt.show()\n",
    "df_loss = pd.DataFrame(results_my['loss'][0:])\n",
    "#df_loss[0].plot()\n",
    "df_loss[0].ewm(span=1000).mean().plot(style='k')"
   ]
  },
  {
   "cell_type": "code",
   "execution_count": 32,
   "metadata": {
    "collapsed": false
   },
   "outputs": [
    {
     "data": {
      "text/plain": [
       "<matplotlib.axes._subplots.AxesSubplot at 0x231bddb21d0>"
      ]
     },
     "execution_count": 32,
     "metadata": {},
     "output_type": "execute_result"
    },
    {
     "data": {
      "image/png": "[encoded data removed]",
      "text/plain": [
       "<matplotlib.figure.Figure at 0x231b8110da0>"
      ]
     },
     "metadata": {},
     "output_type": "display_data"
    }
   ],
   "source": [
    "#plt.plot(results_my['eval0'][100:])\n",
    "#plt.show()\n",
    "df_eval0 = pd.DataFrame(results_my['eval0'][0:])\n",
    "df_eval0[0].ewm(span=1000).mean().plot(style='k')"
   ]
  },
  {
   "cell_type": "code",
   "execution_count": 33,
   "metadata": {
    "collapsed": false
   },
   "outputs": [
    {
     "data": {
      "text/plain": [
       "count    350000.000000\n",
       "mean          0.064917\n",
       "std           0.000240\n",
       "min           0.064436\n",
       "25%           0.064741\n",
       "50%           0.064879\n",
       "75%           0.065055\n",
       "max           0.066962\n",
       "Name: 0, dtype: float64"
      ]
     },
     "execution_count": 33,
     "metadata": {},
     "output_type": "execute_result"
    }
   ],
   "source": [
    "df_eval0[0].describe()"
   ]
  },
  {
   "cell_type": "code",
   "execution_count": 35,
   "metadata": {
    "collapsed": false
   },
   "outputs": [
    {
     "data": {
      "text/plain": [
       "<matplotlib.axes._subplots.AxesSubplot at 0x231b9ef9630>"
      ]
     },
     "execution_count": 35,
     "metadata": {},
     "output_type": "execute_result"
    },
    {
     "data": {
      "image/png": "[encoded data removed]",
      "text/plain": [
       "<matplotlib.figure.Figure at 0x231bd3706d8>"
      ]
     },
     "metadata": {},
     "output_type": "display_data"
    }
   ],
   "source": [
    "df_eval1 = pd.DataFrame(results_my['eval1'][100:])\n",
    "df_eval1[0].ewm(span=1000).mean().plot(style='k')"
   ]
  },
  {
   "cell_type": "code",
   "execution_count": 36,
   "metadata": {
    "collapsed": false
   },
   "outputs": [
    {
     "data": {
      "text/plain": [
       "count    349900.000000\n",
       "mean          0.077062\n",
       "std           0.000373\n",
       "min           0.076016\n",
       "25%           0.076791\n",
       "50%           0.077158\n",
       "75%           0.077360\n",
       "max           0.078278\n",
       "Name: 0, dtype: float64"
      ]
     },
     "execution_count": 36,
     "metadata": {},
     "output_type": "execute_result"
    }
   ],
   "source": [
    "df_eval1[0].describe()"
   ]
  },
  {
   "cell_type": "code",
   "execution_count": 63,
   "metadata": {
    "collapsed": false
   },
   "outputs": [
    {
     "name": "stderr",
     "output_type": "stream",
     "text": [
      "C:\\Anaconda5\\lib\\site-packages\\ipykernel_launcher.py:1: RuntimeWarning: divide by zero encountered in log\n",
      "  \"\"\"Entry point for launching an IPython kernel.\n"
     ]
    },
    {
     "data": {
      "text/plain": [
       "-inf"
      ]
     },
     "execution_count": 63,
     "metadata": {},
     "output_type": "execute_result"
    }
   ],
   "source": [
    "np.log(1e-324)"
   ]
  },
  {
   "cell_type": "code",
   "execution_count": 61,
   "metadata": {
    "collapsed": false
   },
   "outputs": [
    {
     "data": {
      "text/plain": [
       "array([[ 2.,  2.],\n",
       "       [ 3.,  3.]])"
      ]
     },
     "execution_count": 61,
     "metadata": {},
     "output_type": "execute_result"
    }
   ],
   "source": [
    "A = np.array([[2.,2.], [3.,3.]])\n",
    "A"
   ]
  },
  {
   "cell_type": "code",
   "execution_count": 62,
   "metadata": {
    "collapsed": false
   },
   "outputs": [
    {
     "data": {
      "text/plain": [
       "array([[ 2. ,  2. ],\n",
       "       [ 2.1,  2.1]])"
      ]
     },
     "execution_count": 62,
     "metadata": {},
     "output_type": "execute_result"
    }
   ],
   "source": [
    "A[A > 2] = 2.1\n",
    "A"
   ]
  },
  {
   "cell_type": "code",
   "execution_count": 66,
   "metadata": {
    "collapsed": false
   },
   "outputs": [
    {
     "data": {
      "text/plain": [
       "array([ 2.1,  2.1])"
      ]
     },
     "execution_count": 66,
     "metadata": {},
     "output_type": "execute_result"
    }
   ],
   "source": [
    "np.max(A, axis=0)"
   ]
  },
  {
   "cell_type": "code",
   "execution_count": null,
   "metadata": {
    "collapsed": true
   },
   "outputs": [],
   "source": []
  }
 ],
 "metadata": {
  "anaconda-cloud": {},
  "kernelspec": {
   "display_name": "Python [default]",
   "language": "python",
   "name": "python3"
  },
  "language_info": {
   "codemirror_mode": {
    "name": "ipython",
    "version": 3
   },
   "file_extension": ".py",
   "mimetype": "text/x-python",
   "name": "python",
   "nbconvert_exporter": "python",
   "pygments_lexer": "ipython3",
   "version": "3.5.2"
  }
 },
 "nbformat": 4,
 "nbformat_minor": 1
}
