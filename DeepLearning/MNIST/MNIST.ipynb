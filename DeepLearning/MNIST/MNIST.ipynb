{
 "cells": [
  {
   "cell_type": "code",
   "execution_count": 2,
   "metadata": {
    "collapsed": false
   },
   "outputs": [
    {
     "name": "stderr",
     "output_type": "stream",
     "text": [
      "Using TensorFlow backend.\n"
     ]
    }
   ],
   "source": [
    "import numpy as np\n",
    "import pandas as pd\n",
    "import matplotlib.pyplot as plt\n",
    "\n",
    "import importlib\n",
    "\n",
    "import sklearn\n",
    "\n",
    "#normalization\n",
    "from sklearn import preprocessing\n",
    "\n",
    "#oe hot encoder\n",
    "from sklearn.preprocessing import OneHotEncoder\n",
    "\n",
    "#train/test split\n",
    "#from sklearn.model_selection import train_test_split\n",
    "from sklearn.cross_validation import train_test_split\n",
    "\n",
    "#metrics\n",
    "from sklearn.metrics import accuracy_score\n",
    "\n",
    "#baseline linear regression\n",
    "from sklearn import linear_model\n",
    "#baseline RF\n",
    "from sklearn.ensemble import RandomForestClassifier\n",
    "\n",
    "#dnn\n",
    "import os,sys,inspect\n",
    "currentdir = os.path.dirname(os.path.abspath(inspect.getfile(inspect.currentframe())))\n",
    "parentdir = os.path.dirname(currentdir)\n",
    "sys.path.insert(0,parentdir) \n",
    "import DNN\n",
    "\n",
    "#keras\n",
    "import keras\n",
    "from keras.models import Sequential\n",
    "from keras.layers import Dense\n",
    "from keras import optimizers\n",
    "from keras import regularizers\n",
    "\n",
    "%matplotlib inline"
   ]
  },
  {
   "cell_type": "code",
   "execution_count": 3,
   "metadata": {
    "collapsed": false,
    "scrolled": true
   },
   "outputs": [
    {
     "name": "stdout",
     "output_type": "stream",
     "text": [
      "(42000, 785)\n",
      "(42000,)\n",
      "(42000, 784)\n"
     ]
    }
   ],
   "source": [
    "df_train = pd.read_csv('train.csv')\n",
    "print(df_train.shape)\n",
    "df_train\n",
    "\n",
    "y = df_train.label.values\n",
    "print(y.shape)\n",
    "\n",
    "df_train = df_train.drop(['label'], axis=1)\n",
    "df_train /= 255\n",
    "print(df_train.shape)\n",
    "\n",
    "X = df_train.values"
   ]
  },
  {
   "cell_type": "code",
   "execution_count": 14,
   "metadata": {
    "collapsed": false
   },
   "outputs": [
    {
     "data": {
      "text/plain": [
       "<matplotlib.axes._subplots.AxesSubplot at 0x1700fbbad68>"
      ]
     },
     "execution_count": 14,
     "metadata": {},
     "output_type": "execute_result"
    },
    {
     "data": {
      "image/png": "[encoded data removed]",
      "text/plain": [
       "<matplotlib.figure.Figure at 0x1700fbf2208>"
      ]
     },
     "metadata": {},
     "output_type": "display_data"
    }
   ],
   "source": [
    "df_train.pixel300.hist()"
   ]
  },
  {
   "cell_type": "code",
   "execution_count": 15,
   "metadata": {
    "collapsed": false
   },
   "outputs": [
    {
     "data": {
      "text/plain": [
       "count    42000.000000\n",
       "mean         0.279962\n",
       "std          0.401214\n",
       "min          0.000000\n",
       "25%          0.000000\n",
       "50%          0.000000\n",
       "75%          0.647059\n",
       "max          1.000000\n",
       "Name: pixel300, dtype: float64"
      ]
     },
     "execution_count": 15,
     "metadata": {},
     "output_type": "execute_result"
    }
   ],
   "source": [
    "df_train.pixel300.describe()"
   ]
  },
  {
   "cell_type": "code",
   "execution_count": 4,
   "metadata": {
    "collapsed": false
   },
   "outputs": [
    {
     "name": "stdout",
     "output_type": "stream",
     "text": [
      "(39900, 784)\n",
      "(39900,)\n",
      "(2100, 784)\n",
      "(2100,)\n"
     ]
    }
   ],
   "source": [
    "test_size = 0.05\n",
    "\n",
    "X_train, X_dev, y_train, y_dev = train_test_split(X, y, test_size=test_size, random_state=0)\n",
    "\n",
    "X_train_k = X_train\n",
    "X_dev_k = X_dev\n",
    "\n",
    "enc = OneHotEncoder()\n",
    "Y_train_k = enc.fit_transform(y_train.reshape(-1, 1)).todense().A\n",
    "Y_dev_k = enc.transform(y_dev.reshape(-1, 1)).todense().A\n",
    "\n",
    "X_train_my = X_train_k.T\n",
    "X_dev_my = X_dev_k.T\n",
    "Y_train_my = Y_train_k.T\n",
    "Y_dev_my = Y_dev_k.T\n",
    "\n",
    "print(X_train.shape)\n",
    "print(y_train.shape)\n",
    "print(X_dev.shape)\n",
    "print(y_dev.shape)"
   ]
  },
  {
   "cell_type": "code",
   "execution_count": 45,
   "metadata": {
    "collapsed": false
   },
   "outputs": [
    {
     "name": "stdout",
     "output_type": "stream",
     "text": [
      "<class 'sklearn.ensemble.forest.RandomForestClassifier'> 1.0 0.963333333333\n"
     ]
    }
   ],
   "source": [
    "np.random.seed(0) # set a seed so that the results are consistent\n",
    "\n",
    "clfs = []\n",
    "clfs.append(sklearn.linear_model.LogisticRegression())\n",
    "clfs.append(RandomForestClassifier(n_estimators=100, n_jobs=-1))\n",
    "\n",
    "for clf in clfs:\n",
    "    clf.fit(X_train, y_train);\n",
    "    predictions = clf.predict(X_train)\n",
    "    accuracy = accuracy_score(predictions, y_train)\n",
    "    predictions = clf.predict(X_dev)\n",
    "    accuracy2 = accuracy_score(predictions, y_dev)\n",
    "    print(type(clf), accuracy, accuracy2)"
   ]
  },
  {
   "cell_type": "code",
   "execution_count": null,
   "metadata": {
    "collapsed": true
   },
   "outputs": [],
   "source": [
    "<class 'sklearn.linear_model.logistic.LogisticRegression'> 0.930927318296 0.919523809524\n",
    "<class 'sklearn.ensemble.forest.RandomForestClassifier'> 1.0 0.963333333333"
   ]
  },
  {
   "cell_type": "code",
   "execution_count": 4,
   "metadata": {
    "collapsed": false
   },
   "outputs": [],
   "source": [
    "class MyCallback(keras.callbacks.Callback):\n",
    "    def __init__(self, verbose):\n",
    "        self.verbose = verbose\n",
    "\n",
    "    def on_epoch_begin(self, epoch, logs=None):\n",
    "        pass\n",
    "\n",
    "    def on_epoch_end(self, epoch, logs=None):\n",
    "        if self.verbose != None and epoch % self.verbose == 0:\n",
    "            print(epoch, logs['loss'], logs['acc'], logs['val_acc'])        "
   ]
  },
  {
   "cell_type": "code",
   "execution_count": 53,
   "metadata": {
    "collapsed": false
   },
   "outputs": [],
   "source": [
    "np.random.seed(0) # set a seed so that the results are consistent\n",
    "#initializer = keras.initializers.RandomNormal(stddev=0.01)\n",
    "initializer = keras.initializers.lecun_normal()\n",
    "regularizer = None\n",
    "#regularizer = regularizers.l2(0.01)\n",
    "model = Sequential()\n",
    "model.add(Dense(200, input_dim=X_train_k.shape[1], kernel_initializer=initializer, activation='tanh', kernel_regularizer=regularizer))\n",
    "model.add(Dense(50, kernel_initializer=initializer, activation='tanh', kernel_regularizer=regularizer))\n",
    "model.add(Dense(10, kernel_initializer=initializer, activation='softmax', kernel_regularizer=regularizer))\n",
    "optimizer = optimizers.SGD(lr=0.1, momentum=0.9)\n",
    "#optimizer = optimizers.Adam(lr=0.1)\n",
    "model.compile(loss='categorical_crossentropy', optimizer=optimizer, metrics=['accuracy'])"
   ]
  },
  {
   "cell_type": "code",
   "execution_count": 54,
   "metadata": {
    "collapsed": false,
    "scrolled": true
   },
   "outputs": [
    {
     "name": "stdout",
     "output_type": "stream",
     "text": [
      "0 0.746379182333 0.763208020182 0.79619047619\n",
      "10 0.779616208495 0.767794486293 0.699999999886\n",
      "20 0.799104182864 0.768972430916 0.751428571542\n",
      "30 0.8281849742 0.75383458658 0.763809523469\n",
      "40 0.771894529607 0.771904762042 0.789047619161\n",
      "50 0.762332609662 0.769523809458 0.771904761791\n",
      "60 0.713015390399 0.799423559011 0.78619047585\n",
      "70 0.720382317499 0.783884711911 0.824761905103\n",
      "80 0.742167330789 0.77774436101 0.783809523923\n",
      "90 0.616780752329 0.827694235703 0.848095238776\n",
      "Accuracy train 0.834711779449\n",
      "Accuracy dev 0.825238095238\n"
     ]
    }
   ],
   "source": [
    "np.random.seed(0) # set a seed so that the results are consistent\n",
    "initial_epoch = 0\n",
    "epochs = 100\n",
    "#batch_size = int(X_train_k.shape[0])\n",
    "batch_size = 256\n",
    "verbose = 0\n",
    "verbose2 = 10\n",
    "results_k = model.fit(X_train_k, Y_train_k, batch_size=batch_size, epochs=epochs, callbacks=[MyCallback(verbose2)], validation_data = (X_dev_k, Y_dev_k), verbose=verbose, initial_epoch=initial_epoch)\n",
    "Y_predict_k = model.predict(X_train_k)\n",
    "print('Accuracy train', accuracy_score(Y_train_k.argmax(axis=1), Y_predict_k.argmax(axis=1)))\n",
    "Y_predict_k = model.predict(X_dev_k)\n",
    "print('Accuracy dev', accuracy_score(Y_dev_k.argmax(axis=1), Y_predict_k.argmax(axis=1)))"
   ]
  },
  {
   "cell_type": "code",
   "execution_count": null,
   "metadata": {
    "collapsed": true
   },
   "outputs": [],
   "source": [
    "200/50/10 lr=0.1/epochs=100/batch_size=256\n",
    "Accuracy train 0.999674185464\n",
    "Accuracy dev 0.972857142857\n",
    "\n",
    "200/50/10 lr=0.1/epochs=100/batch_size=256/beta=0.9\n",
    "Accuracy train 1.0\n",
    "Accuracy dev 0.979047619048\n",
    "\n",
    "200/50/10 lr=0.1/epochs=100/batch_size=256/beta=0.9/adam **bad\n",
    "Accuracy train 0.834711779449\n",
    "Accuracy dev 0.825238095238\n",
    "\n",
    "200/50/10 lr=0.01/epochs=100/batch_size=256/beta=0.9/adam\n",
    "Accuracy train 0.985463659148\n",
    "Accuracy dev 0.96619047619"
   ]
  },
  {
   "cell_type": "code",
   "execution_count": 34,
   "metadata": {
    "collapsed": false
   },
   "outputs": [
    {
     "data": {
      "image/png": "[encoded data removed]",
      "text/plain": [
       "<matplotlib.figure.Figure at 0x23a8162fe48>"
      ]
     },
     "metadata": {},
     "output_type": "display_data"
    }
   ],
   "source": [
    "plt.plot(results_k.history['loss'])\n",
    "plt.show()"
   ]
  },
  {
   "cell_type": "code",
   "execution_count": 35,
   "metadata": {
    "collapsed": false
   },
   "outputs": [
    {
     "data": {
      "image/png": "[encoded data removed]",
      "text/plain": [
       "<matplotlib.figure.Figure at 0x23a81dc37f0>"
      ]
     },
     "metadata": {},
     "output_type": "display_data"
    }
   ],
   "source": [
    "plt.plot(results_k.history['acc'])\n",
    "plt.plot(results_k.history['val_acc'])\n",
    "plt.show()"
   ]
  },
  {
   "cell_type": "code",
   "execution_count": 6,
   "metadata": {
    "collapsed": false
   },
   "outputs": [
    {
     "name": "stdout",
     "output_type": "stream",
     "text": [
      "(784, 39900)\n",
      "(10, 39900)\n",
      "(784, 2100)\n",
      "(10, 2100)\n"
     ]
    }
   ],
   "source": [
    "print(X_train_my.shape)\n",
    "print(Y_train_my.shape)\n",
    "print(X_dev_my.shape)\n",
    "print(Y_dev_my.shape)"
   ]
  },
  {
   "cell_type": "code",
   "execution_count": 5,
   "metadata": {
    "collapsed": false
   },
   "outputs": [
    {
     "data": {
      "text/plain": [
       "<module 'DNN' from 'C:\\\\Users\\\\mircean\\\\git\\\\ML\\\\DeepLearning\\\\DNN.py'>"
      ]
     },
     "execution_count": 5,
     "metadata": {},
     "output_type": "execute_result"
    }
   ],
   "source": [
    "importlib.reload(DNN)"
   ]
  },
  {
   "cell_type": "code",
   "execution_count": 10,
   "metadata": {
    "collapsed": false
   },
   "outputs": [],
   "source": [
    "#random seed for parameters init\n",
    "np.random.seed(0) \n",
    "dnn = DNN.DNN()\n",
    "dnn.add_input_layer(X_train_my.shape[0])\n",
    "dnn.add_layer(200, np.tanh)\n",
    "dnn.add_layer(50, np.tanh)\n",
    "dnn.add_layer(10, DNN.softmax)\n",
    "dnn.costfunction = DNN.categorical_crossentropy\n",
    "dnn.init = 'Lecun'\n",
    "dnn.optimizer = ('GD', 0.9)\n",
    "dnn.lambd = 0.5\n",
    "dnn.compile()"
   ]
  },
  {
   "cell_type": "code",
   "execution_count": 11,
   "metadata": {
    "collapsed": false,
    "scrolled": true
   },
   "outputs": [
    {
     "name": "stdout",
     "output_type": "stream",
     "text": [
      "Cost after iteration 0 ['1.094208', '0.887494', '0.889048']\n",
      "Cost after iteration 10 ['0.415483', '0.947870', '0.941905']\n",
      "Cost after iteration 20 ['0.326426', '0.963208', '0.954762']\n",
      "Cost after iteration 30 ['0.280532', '0.970702', '0.959524']\n",
      "Cost after iteration 40 ['0.254816', '0.974712', '0.963333']\n",
      "Cost after iteration 50 ['0.239863', '0.977669', '0.966667']\n",
      "Cost after iteration 60 ['0.229781', '0.979373', '0.967619']\n",
      "Cost after iteration 70 ['0.223281', '0.981704', '0.970476']\n",
      "Cost after iteration 80 ['0.219375', '0.983158', '0.973333']\n",
      "Cost after iteration 90 ['0.215960', '0.983659', '0.973333']\n",
      "Accuracy train 0.984561403509\n",
      "Accuracy dev 0.971428571429\n"
     ]
    }
   ],
   "source": [
    "#random seed for mini batch shuffle\n",
    "np.random.seed(0) \n",
    "\n",
    "learning_rate = 0.1\n",
    "epochs = 100\n",
    "batch_size = 256\n",
    "verbose = 10\n",
    "gradient_check=False\n",
    "num_parameters = 2500\n",
    "\n",
    "#dnn.compile()\n",
    "\n",
    "#eval_set = None\n",
    "eval_set = [(X_train_my, Y_train_my), (X_dev_my, Y_dev_my)]\n",
    "results_my = dnn.fit(X_train_my, Y_train_my, eval_set=eval_set, eval_metric='error', learning_rate=learning_rate, epochs=epochs, batch_size=batch_size, verbose=verbose)\n",
    "Y_predict_my = dnn.predict(X_train_my)\n",
    "accuracy = accuracy_score(Y_predict_my.argmax(axis=0), Y_train_my.argmax(axis=0))\n",
    "print('Accuracy train', accuracy)\n",
    "Y_predict_my = dnn.predict(X_dev_my)\n",
    "accuracy = accuracy_score(Y_predict_my.argmax(axis=0), Y_dev_my.argmax(axis=0))\n",
    "print('Accuracy dev', accuracy)"
   ]
  },
  {
   "cell_type": "code",
   "execution_count": null,
   "metadata": {
    "collapsed": true
   },
   "outputs": [],
   "source": [
    "10/10, lr=0.1/epochs=100/batch_size=256\n",
    "Accuracy train 0.954160401003\n",
    "Accuracy dev 0.93380952381\n",
    "\n",
    "200/50/10 lr=0.1/epochs=100/batch_size=256\n",
    "Accuracy train 0.99969924812\n",
    "Accuracy dev 0.975714285714\n",
    "\n",
    "200/50/10 lr=0.1/epochs=100/batch_size=256/GD/beta=0.9\n",
    "Accuracy train 0.99962406015\n",
    "Accuracy dev 0.975714285714\n",
    "\n",
    "200/50/10 lr=0.1/epochs=100/batch_size=256/adam **bad\n",
    "Accuracy train 0.0.925137844612\n",
    "Accuracy dev 0.0.916666666667\n",
    "\n",
    "200/50/10 lr=0.1/epochs=100/batch_size=256/GD/beta=0.9/lamdbd=0.1\n",
    "Accuracy train 0.997994987469\n",
    "Accuracy dev 0.975238095238"
   ]
  },
  {
   "cell_type": "code",
   "execution_count": 8,
   "metadata": {
    "collapsed": false
   },
   "outputs": [
    {
     "data": {
      "image/png": "[encoded data removed]",
      "text/plain": [
       "<matplotlib.figure.Figure at 0x1a1b21e5048>"
      ]
     },
     "metadata": {},
     "output_type": "display_data"
    }
   ],
   "source": [
    "plt.plot(results_my['loss'])\n",
    "plt.show()"
   ]
  },
  {
   "cell_type": "code",
   "execution_count": 9,
   "metadata": {
    "collapsed": false
   },
   "outputs": [
    {
     "data": {
      "image/png": "[encoded data removed]",
      "text/plain": [
       "<matplotlib.figure.Figure at 0x1a1b2609f98>"
      ]
     },
     "metadata": {},
     "output_type": "display_data"
    }
   ],
   "source": [
    "plt.plot(results_my['eval0'])\n",
    "plt.plot(results_my['eval1'])\n",
    "plt.show()"
   ]
  },
  {
   "cell_type": "code",
   "execution_count": 4,
   "metadata": {
    "collapsed": false
   },
   "outputs": [
    {
     "data": {
      "text/plain": [
       "3.4727090510081964"
      ]
     },
     "execution_count": 4,
     "metadata": {},
     "output_type": "execute_result"
    }
   ],
   "source": []
  },
  {
   "cell_type": "code",
   "execution_count": 11,
   "metadata": {
    "collapsed": false
   },
   "outputs": [
    {
     "name": "stdout",
     "output_type": "stream",
     "text": [
      "0.00658256473649\n",
      "0.00452425573209\n",
      "0.0160634840096\n",
      "0.00134465278379\n",
      "0.00623265488058\n",
      "0.0501864397719\n",
      "0.0994895885759\n",
      "0.00166304369779\n",
      "0.0100795968368\n",
      "0.00724565893193\n"
     ]
    }
   ],
   "source": [
    "for i in range(10):\n",
    "    print(np.power(10, -(1+2*np.random.rand())))"
   ]
  },
  {
   "cell_type": "code",
   "execution_count": null,
   "metadata": {
    "collapsed": true
   },
   "outputs": [],
   "source": []
  }
 ],
 "metadata": {
  "anaconda-cloud": {},
  "kernelspec": {
   "display_name": "Python [default]",
   "language": "python",
   "name": "python3"
  },
  "language_info": {
   "codemirror_mode": {
    "name": "ipython",
    "version": 3
   },
   "file_extension": ".py",
   "mimetype": "text/x-python",
   "name": "python",
   "nbconvert_exporter": "python",
   "pygments_lexer": "ipython3",
   "version": "3.5.2"
  }
 },
 "nbformat": 4,
 "nbformat_minor": 1
}
