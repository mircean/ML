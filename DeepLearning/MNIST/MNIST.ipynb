{
 "cells": [
  {
   "cell_type": "code",
   "execution_count": 2,
   "metadata": {
    "collapsed": false
   },
   "outputs": [
    {
     "name": "stderr",
     "output_type": "stream",
     "text": [
      "Using TensorFlow backend.\n"
     ]
    }
   ],
   "source": [
    "import numpy as np\n",
    "import pandas as pd\n",
    "import matplotlib.pyplot as plt\n",
    "\n",
    "import importlib\n",
    "\n",
    "import sklearn\n",
    "\n",
    "#normalization\n",
    "from sklearn import preprocessing\n",
    "\n",
    "#oe hot encoder\n",
    "from sklearn.preprocessing import OneHotEncoder\n",
    "\n",
    "#train/test split\n",
    "#from sklearn.model_selection import train_test_split\n",
    "from sklearn.cross_validation import train_test_split\n",
    "\n",
    "#metrics\n",
    "from sklearn.metrics import accuracy_score\n",
    "\n",
    "#baseline linear regression\n",
    "from sklearn import linear_model\n",
    "#baseline RF\n",
    "from sklearn.ensemble import RandomForestClassifier\n",
    "\n",
    "#dnn\n",
    "import os,sys,inspect\n",
    "currentdir = os.path.dirname(os.path.abspath(inspect.getfile(inspect.currentframe())))\n",
    "parentdir = os.path.dirname(currentdir)\n",
    "sys.path.insert(0,parentdir) \n",
    "import DNN\n",
    "\n",
    "#keras\n",
    "import keras\n",
    "from keras.models import Sequential\n",
    "from keras.layers import Dense\n",
    "from keras import optimizers\n",
    "from keras import regularizers\n",
    "\n",
    "%matplotlib inline"
   ]
  },
  {
   "cell_type": "code",
   "execution_count": 3,
   "metadata": {
    "collapsed": false,
    "scrolled": true
   },
   "outputs": [
    {
     "name": "stdout",
     "output_type": "stream",
     "text": [
      "(42000, 785)\n",
      "(42000,)\n",
      "(42000, 784)\n"
     ]
    }
   ],
   "source": [
    "df_train = pd.read_csv('train.csv')\n",
    "print(df_train.shape)\n",
    "df_train\n",
    "\n",
    "y = df_train.label.values\n",
    "print(y.shape)\n",
    "\n",
    "df_train = df_train.drop(['label'], axis=1)\n",
    "df_train /= 255\n",
    "print(df_train.shape)\n",
    "\n",
    "X = df_train.values"
   ]
  },
  {
   "cell_type": "code",
   "execution_count": 14,
   "metadata": {
    "collapsed": false
   },
   "outputs": [
    {
     "data": {
      "text/plain": [
       "<matplotlib.axes._subplots.AxesSubplot at 0x1700fbbad68>"
      ]
     },
     "execution_count": 14,
     "metadata": {},
     "output_type": "execute_result"
    },
    {
     "data": {
      "image/png": "[encoded data removed]",
      "text/plain": [
       "<matplotlib.figure.Figure at 0x1700fbf2208>"
      ]
     },
     "metadata": {},
     "output_type": "display_data"
    }
   ],
   "source": [
    "df_train.pixel300.hist()"
   ]
  },
  {
   "cell_type": "code",
   "execution_count": 15,
   "metadata": {
    "collapsed": false
   },
   "outputs": [
    {
     "data": {
      "text/plain": [
       "count    42000.000000\n",
       "mean         0.279962\n",
       "std          0.401214\n",
       "min          0.000000\n",
       "25%          0.000000\n",
       "50%          0.000000\n",
       "75%          0.647059\n",
       "max          1.000000\n",
       "Name: pixel300, dtype: float64"
      ]
     },
     "execution_count": 15,
     "metadata": {},
     "output_type": "execute_result"
    }
   ],
   "source": [
    "df_train.pixel300.describe()"
   ]
  },
  {
   "cell_type": "code",
   "execution_count": 4,
   "metadata": {
    "collapsed": false
   },
   "outputs": [
    {
     "name": "stdout",
     "output_type": "stream",
     "text": [
      "(39900, 784)\n",
      "(39900,)\n",
      "(2100, 784)\n",
      "(2100,)\n"
     ]
    }
   ],
   "source": [
    "test_size = 0.05\n",
    "\n",
    "X_train, X_dev, y_train, y_dev = train_test_split(X, y, test_size=test_size, random_state=0)\n",
    "\n",
    "X_train_k = X_train\n",
    "X_dev_k = X_dev\n",
    "\n",
    "enc = OneHotEncoder()\n",
    "Y_train_k = enc.fit_transform(y_train.reshape(-1, 1)).todense().A\n",
    "Y_dev_k = enc.transform(y_dev.reshape(-1, 1)).todense().A\n",
    "\n",
    "X_train_my = X_train_k.T\n",
    "X_dev_my = X_dev_k.T\n",
    "Y_train_my = Y_train_k.T\n",
    "Y_dev_my = Y_dev_k.T\n",
    "\n",
    "print(X_train.shape)\n",
    "print(y_train.shape)\n",
    "print(X_dev.shape)\n",
    "print(y_dev.shape)"
   ]
  },
  {
   "cell_type": "code",
   "execution_count": 45,
   "metadata": {
    "collapsed": false
   },
   "outputs": [
    {
     "name": "stdout",
     "output_type": "stream",
     "text": [
      "<class 'sklearn.ensemble.forest.RandomForestClassifier'> 1.0 0.963333333333\n"
     ]
    }
   ],
   "source": [
    "np.random.seed(0) # set a seed so that the results are consistent\n",
    "\n",
    "clfs = []\n",
    "clfs.append(sklearn.linear_model.LogisticRegression())\n",
    "clfs.append(RandomForestClassifier(n_estimators=100, n_jobs=-1))\n",
    "\n",
    "for clf in clfs:\n",
    "    clf.fit(X_train, y_train);\n",
    "    predictions = clf.predict(X_train)\n",
    "    accuracy = accuracy_score(predictions, y_train)\n",
    "    predictions = clf.predict(X_dev)\n",
    "    accuracy2 = accuracy_score(predictions, y_dev)\n",
    "    print(type(clf), accuracy, accuracy2)"
   ]
  },
  {
   "cell_type": "code",
   "execution_count": null,
   "metadata": {
    "collapsed": true
   },
   "outputs": [],
   "source": [
    "<class 'sklearn.linear_model.logistic.LogisticRegression'> 0.930927318296 0.919523809524\n",
    "<class 'sklearn.ensemble.forest.RandomForestClassifier'> 1.0 0.963333333333"
   ]
  },
  {
   "cell_type": "code",
   "execution_count": 36,
   "metadata": {
    "collapsed": false
   },
   "outputs": [],
   "source": [
    "class MyCallback(keras.callbacks.Callback):\n",
    "    def __init__(self, verbose):\n",
    "        self.verbose = verbose\n",
    "\n",
    "    def on_epoch_begin(self, epoch, logs=None):\n",
    "        pass\n",
    "\n",
    "    def on_epoch_end(self, epoch, logs=None):\n",
    "        if self.verbose != None and epoch % self.verbose == 0:\n",
    "            print(epoch, logs['loss'], logs['acc'], logs['val_acc'])        "
   ]
  },
  {
   "cell_type": "code",
   "execution_count": 37,
   "metadata": {
    "collapsed": false
   },
   "outputs": [],
   "source": [
    "np.random.seed(0) # set a seed so that the results are consistent\n",
    "#initializer = keras.initializers.RandomNormal(stddev=0.01)\n",
    "initializer = keras.initializers.lecun_normal()\n",
    "regularizer = None\n",
    "#regularizer = regularizers.l2(0.01)\n",
    "model = Sequential()\n",
    "model.add(Dense(200, input_dim=X_train_k.shape[1], kernel_initializer=initializer, activation='tanh', kernel_regularizer=regularizer))\n",
    "model.add(Dense(50, kernel_initializer=initializer, activation='tanh', kernel_regularizer=regularizer))\n",
    "model.add(Dense(10, kernel_initializer=initializer, activation='softmax', kernel_regularizer=regularizer))\n",
    "optimizer = optimizers.SGD(lr=0.1)\n",
    "model.compile(loss='categorical_crossentropy', optimizer=optimizer, metrics=['accuracy'])"
   ]
  },
  {
   "cell_type": "code",
   "execution_count": 38,
   "metadata": {
    "collapsed": false,
    "scrolled": true
   },
   "outputs": [
    {
     "name": "stdout",
     "output_type": "stream",
     "text": [
      "0 0.811203542745 0.811303258181 0.888571428458\n",
      "10 0.168301124991 0.95107769417 0.945238095352\n",
      "20 0.101566252525 0.970852130164 0.958571429026\n",
      "30 0.0684489948484 0.981002506361 0.963809524264\n",
      "40 0.0474423684449 0.98844611536 0.966666667121\n",
      "50 0.0335832734686 0.993308270701 0.97047619093\n",
      "60 0.0243717922534 0.996015037594 0.971428571883\n",
      "70 0.0177031577885 0.997794486239 0.97047619093\n",
      "80 0.0132203323951 0.998721804511 0.970952381407\n",
      "90 0.0100459426822 0.999223057644 0.972857142176\n",
      "Accuracy train 0.999674185464\n",
      "Accuracy dev 0.972857142857\n"
     ]
    }
   ],
   "source": [
    "np.random.seed(0) # set a seed so that the results are consistent\n",
    "initial_epoch = 0\n",
    "epochs = 100\n",
    "#batch_size = int(X_train_k.shape[0])\n",
    "batch_size = 256\n",
    "verbose = 0\n",
    "verbose2 = 10\n",
    "results = model.fit(X_train_k, Y_train_k, batch_size=batch_size, epochs=epochs, callbacks=[MyCallback(verbose2)], validation_data = (X_dev_k, Y_dev_k), verbose=verbose, initial_epoch=initial_epoch)\n",
    "Y_predict_k = model.predict(X_train_k)\n",
    "print('Accuracy train', accuracy_score(Y_train_k.argmax(axis=1), Y_predict_k.argmax(axis=1)))\n",
    "Y_predict_k = model.predict(X_dev_k)\n",
    "print('Accuracy dev', accuracy_score(Y_dev_k.argmax(axis=1), Y_predict_k.argmax(axis=1)))"
   ]
  },
  {
   "cell_type": "code",
   "execution_count": null,
   "metadata": {
    "collapsed": true
   },
   "outputs": [],
   "source": [
    "200/50/10 0.1/100/256\n",
    "\n",
    "Accuracy train 0.999674185464\n",
    "Accuracy dev 0.972857142857"
   ]
  },
  {
   "cell_type": "code",
   "execution_count": 305,
   "metadata": {
    "collapsed": false
   },
   "outputs": [
    {
     "ename": "AttributeError",
     "evalue": "'Sequential' object has no attribute 'History'",
     "output_type": "error",
     "traceback": [
      "\u001b[0;31m---------------------------------------------------------------------------\u001b[0m",
      "\u001b[0;31mAttributeError\u001b[0m                            Traceback (most recent call last)",
      "\u001b[0;32m<ipython-input-305-c5c671c71fac>\u001b[0m in \u001b[0;36m<module>\u001b[0;34m()\u001b[0m\n\u001b[0;32m----> 1\u001b[0;31m \u001b[0mmodel\u001b[0m\u001b[1;33m.\u001b[0m\u001b[0mHistory\u001b[0m\u001b[1;33m\u001b[0m\u001b[0m\n\u001b[0m",
      "\u001b[0;31mAttributeError\u001b[0m: 'Sequential' object has no attribute 'History'"
     ]
    }
   ],
   "source": [
    "model.History"
   ]
  },
  {
   "cell_type": "code",
   "execution_count": 299,
   "metadata": {
    "collapsed": false
   },
   "outputs": [
    {
     "data": {
      "image/png": "[encoded data removed]",
      "text/plain": [
       "<matplotlib.figure.Figure at 0x1700d335748>"
      ]
     },
     "metadata": {},
     "output_type": "display_data"
    }
   ],
   "source": [
    "plt.plot(results.history['loss'])\n",
    "plt.show()"
   ]
  },
  {
   "cell_type": "code",
   "execution_count": 300,
   "metadata": {
    "collapsed": false
   },
   "outputs": [
    {
     "data": {
      "image/png": "[encoded data removed]",
      "text/plain": [
       "<matplotlib.figure.Figure at 0x1700bb3bf98>"
      ]
     },
     "metadata": {},
     "output_type": "display_data"
    }
   ],
   "source": [
    "plt.plot(results.history['acc'])\n",
    "plt.plot(results.history['val_acc'])\n",
    "plt.show()"
   ]
  },
  {
   "cell_type": "code",
   "execution_count": 6,
   "metadata": {
    "collapsed": false
   },
   "outputs": [
    {
     "name": "stdout",
     "output_type": "stream",
     "text": [
      "(784, 39900)\n",
      "(10, 39900)\n",
      "(784, 2100)\n",
      "(10, 2100)\n"
     ]
    }
   ],
   "source": [
    "print(X_train_my.shape)\n",
    "print(Y_train_my.shape)\n",
    "print(X_dev_my.shape)\n",
    "print(Y_dev_my.shape)"
   ]
  },
  {
   "cell_type": "code",
   "execution_count": 27,
   "metadata": {
    "collapsed": false
   },
   "outputs": [
    {
     "data": {
      "text/plain": [
       "<module 'DNN' from 'C:\\\\Users\\\\mircean\\\\git\\\\ML\\\\DeepLearning\\\\DNN.py'>"
      ]
     },
     "execution_count": 27,
     "metadata": {},
     "output_type": "execute_result"
    }
   ],
   "source": [
    "importlib.reload(DNN)"
   ]
  },
  {
   "cell_type": "code",
   "execution_count": 28,
   "metadata": {
    "collapsed": false
   },
   "outputs": [],
   "source": [
    "#random seed for parameters init\n",
    "np.random.seed(0) \n",
    "dnn = DNN.DNN()\n",
    "dnn.add_input_layer(X_train_my.shape[0])\n",
    "dnn.add_layer(200, np.tanh)\n",
    "dnn.add_layer(50, np.tanh)\n",
    "dnn.add_layer(10, DNN.softmax)\n",
    "dnn.costfunction = DNN.categorical_crossentropy\n",
    "dnn.init = 'Lecun'\n",
    "#dnn.lambd = 0.01\n",
    "dnn.compile()"
   ]
  },
  {
   "cell_type": "code",
   "execution_count": 29,
   "metadata": {
    "collapsed": false,
    "scrolled": true
   },
   "outputs": [
    {
     "name": "stdout",
     "output_type": "stream",
     "text": [
      "............................................................................................................................................................\n",
      "Cost after iteration 0 ['0.742323', '0.892206', '0.894762']\n",
      "............................................................................................................................................................\n",
      "Cost after iteration 10 ['0.164730', '0.957068', '0.950000']\n",
      "............................................................................................................................................................\n",
      "Cost after iteration 20 ['0.097926', '0.974436', '0.960476']\n",
      "............................................................................................................................................................\n",
      "Cost after iteration 30 ['0.064685', '0.983684', '0.963810']\n",
      "............................................................................................................................................................\n",
      "Cost after iteration 40 ['0.044636', '0.990627', '0.970476']\n",
      "............................................................................................................................................................\n",
      "Cost after iteration 50 ['0.031152', '0.994586', '0.974286']\n",
      "............................................................................................................................................................\n",
      "Cost after iteration 60 ['0.022493', '0.996967', '0.975238']\n",
      "............................................................................................................................................................\n",
      "Cost after iteration 70 ['0.016292', '0.998521', '0.974762']\n",
      "............................................................................................................................................................\n",
      "Cost after iteration 80 ['0.012116', '0.999048', '0.976667']\n",
      "............................................................................................................................................................\n",
      "Cost after iteration 90 ['0.009360', '0.999524', '0.976190']\n",
      "Accuracy train 0.99969924812\n",
      "Accuracy dev 0.975714285714\n"
     ]
    }
   ],
   "source": [
    "#random seed for mini batch shuffle\n",
    "np.random.seed(0) \n",
    "\n",
    "learning_rate = 0.1\n",
    "num_iterations = 100\n",
    "mini_batch_size = 256\n",
    "verbose = 10\n",
    "gradient_check=False\n",
    "num_parameters = 2500\n",
    "\n",
    "#dnn.compile()\n",
    "\n",
    "#eval_set = None\n",
    "eval_set = [(X_train_my, Y_train_my), (X_dev_my, Y_dev_my)]\n",
    "results = dnn.fit(X_train_my, Y_train_my, eval_set=eval_set, eval_metric='error', learning_rate=learning_rate, num_iterations=num_iterations, mini_batch_size=mini_batch_size, verbose=verbose)\n",
    "\n",
    "Y_predict_my = dnn.predict(X_train_my)\n",
    "accuracy = accuracy_score(Y_predict_my.argmax(axis=0), Y_train_my.argmax(axis=0))\n",
    "print('Accuracy train', accuracy)\n",
    "\n",
    "Y_predict_my = dnn.predict(X_dev_my)\n",
    "accuracy = accuracy_score(Y_predict_my.argmax(axis=0), Y_dev_my.argmax(axis=0))\n",
    "print('Accuracy dev', accuracy)"
   ]
  },
  {
   "cell_type": "code",
   "execution_count": null,
   "metadata": {
    "collapsed": true
   },
   "outputs": [],
   "source": [
    "10/10, 0.1/100/256\n",
    "Accuracy train 0.954160401003\n",
    "Accuracy dev 0.93380952381\n",
    "\n",
    "200/50/10 0.1/100/256\n",
    "Accuracy train 0.99969924812\n",
    "Accuracy dev 0.975714285714"
   ]
  },
  {
   "cell_type": "code",
   "execution_count": 30,
   "metadata": {
    "collapsed": false
   },
   "outputs": [
    {
     "data": {
      "image/png": "[encoded data removed]",
      "text/plain": [
       "<matplotlib.figure.Figure at 0x1f28f393160>"
      ]
     },
     "metadata": {},
     "output_type": "display_data"
    }
   ],
   "source": [
    "plt.plot(results['loss'])\n",
    "plt.show()"
   ]
  },
  {
   "cell_type": "code",
   "execution_count": 31,
   "metadata": {
    "collapsed": false
   },
   "outputs": [
    {
     "data": {
      "image/png": "[encoded data removed]",
      "text/plain": [
       "<matplotlib.figure.Figure at 0x1f28f363a20>"
      ]
     },
     "metadata": {},
     "output_type": "display_data"
    }
   ],
   "source": [
    "plt.plot(results['eval0'])\n",
    "plt.plot(results['eval1'])\n",
    "plt.show()"
   ]
  },
  {
   "cell_type": "code",
   "execution_count": 221,
   "metadata": {
    "collapsed": false,
    "scrolled": true
   },
   "outputs": [
    {
     "ename": "ZeroDivisionError",
     "evalue": "integer division or modulo by zero",
     "output_type": "error",
     "traceback": [
      "\u001b[0;31m---------------------------------------------------------------------------\u001b[0m",
      "\u001b[0;31mZeroDivisionError\u001b[0m                         Traceback (most recent call last)",
      "\u001b[0;32m<ipython-input-221-4f6e7cb24700>\u001b[0m in \u001b[0;36m<module>\u001b[0;34m()\u001b[0m\n\u001b[0;32m----> 1\u001b[0;31m \u001b[0mresults\u001b[0m \u001b[1;33m=\u001b[0m \u001b[0mdnn\u001b[0m\u001b[1;33m.\u001b[0m\u001b[0mfit\u001b[0m\u001b[1;33m(\u001b[0m\u001b[0mX_train_my\u001b[0m\u001b[1;33m,\u001b[0m \u001b[0mY_train_my\u001b[0m\u001b[1;33m,\u001b[0m \u001b[0meval_set\u001b[0m\u001b[1;33m=\u001b[0m\u001b[0meval_set\u001b[0m\u001b[1;33m,\u001b[0m \u001b[0meval_metric\u001b[0m\u001b[1;33m=\u001b[0m\u001b[1;34m'error'\u001b[0m\u001b[1;33m,\u001b[0m \u001b[0mlearning_rate\u001b[0m\u001b[1;33m=\u001b[0m\u001b[0mlearning_rate\u001b[0m\u001b[1;33m,\u001b[0m \u001b[0mnum_iterations\u001b[0m\u001b[1;33m=\u001b[0m\u001b[0mnum_iterations\u001b[0m\u001b[1;33m,\u001b[0m \u001b[0mprint_cost\u001b[0m\u001b[1;33m=\u001b[0m\u001b[0mverbose\u001b[0m\u001b[1;33m)\u001b[0m\u001b[1;33m\u001b[0m\u001b[0m\n\u001b[0m",
      "\u001b[0;32mC:\\Users\\mircean\\git\\ML\\DeepLearning\\DNN.py\u001b[0m in \u001b[0;36mfit\u001b[0;34m(self, X, Y, eval_set, eval_metric, learning_rate, num_iterations, print_cost)\u001b[0m\n\u001b[1;32m    272\u001b[0m \u001b[1;33m\u001b[0m\u001b[0m\n\u001b[1;32m    273\u001b[0m             \u001b[1;31m# Print the cost\u001b[0m\u001b[1;33m\u001b[0m\u001b[1;33m\u001b[0m\u001b[0m\n\u001b[0;32m--> 274\u001b[0;31m             \u001b[1;32mif\u001b[0m \u001b[0mprint_cost\u001b[0m \u001b[1;33m!=\u001b[0m \u001b[1;32mNone\u001b[0m \u001b[1;32mand\u001b[0m \u001b[0mi\u001b[0m \u001b[1;33m%\u001b[0m \u001b[0mprint_cost\u001b[0m \u001b[1;33m==\u001b[0m \u001b[1;36m0\u001b[0m\u001b[1;33m:\u001b[0m\u001b[1;33m\u001b[0m\u001b[0m\n\u001b[0m\u001b[1;32m    275\u001b[0m                 \u001b[0mprint\u001b[0m \u001b[1;33m(\u001b[0m\u001b[1;34m\"Cost after iteration\"\u001b[0m\u001b[1;33m,\u001b[0m \u001b[0mi\u001b[0m\u001b[1;33m,\u001b[0m \u001b[1;33m[\u001b[0m\u001b[1;34m\"{0:0.6f}\"\u001b[0m\u001b[1;33m.\u001b[0m\u001b[0mformat\u001b[0m\u001b[1;33m(\u001b[0m\u001b[0mi\u001b[0m\u001b[1;33m)\u001b[0m \u001b[1;32mfor\u001b[0m \u001b[0mi\u001b[0m \u001b[1;32min\u001b[0m \u001b[0mepoch_costs\u001b[0m\u001b[1;33m]\u001b[0m\u001b[1;33m)\u001b[0m\u001b[1;33m\u001b[0m\u001b[0m\n\u001b[1;32m    276\u001b[0m                 \u001b[1;31m#print (\"Cost after iteration\", i, epoch_costs)\u001b[0m\u001b[1;33m\u001b[0m\u001b[1;33m\u001b[0m\u001b[0m\n",
      "\u001b[0;31mZeroDivisionError\u001b[0m: integer division or modulo by zero"
     ]
    }
   ],
   "source": [
    "results = dnn.fit(X_train_my, Y_train_my, eval_set=eval_set, eval_metric='error', learning_rate=learning_rate, num_iterations=num_iterations, print_cost=verbose)\n"
   ]
  },
  {
   "cell_type": "code",
   "execution_count": 340,
   "metadata": {
    "collapsed": false
   },
   "outputs": [
    {
     "data": {
      "text/plain": [
       "array([[1, 2],\n",
       "       [3, 4],\n",
       "       [5, 6]])"
      ]
     },
     "execution_count": 340,
     "metadata": {},
     "output_type": "execute_result"
    }
   ],
   "source": [
    "a = np.array([[1,2], [3,4], [5,6]])\n",
    "a"
   ]
  },
  {
   "cell_type": "code",
   "execution_count": 341,
   "metadata": {
    "collapsed": false
   },
   "outputs": [
    {
     "data": {
      "text/plain": [
       "array([1, 2, 3, 4, 5, 6])"
      ]
     },
     "execution_count": 341,
     "metadata": {},
     "output_type": "execute_result"
    }
   ],
   "source": [
    "b = a.reshape(-1)\n",
    "b"
   ]
  },
  {
   "cell_type": "code",
   "execution_count": 385,
   "metadata": {
    "collapsed": false
   },
   "outputs": [
    {
     "data": {
      "text/plain": [
       "(3, 2)"
      ]
     },
     "execution_count": 385,
     "metadata": {},
     "output_type": "execute_result"
    }
   ],
   "source": [
    "a.shape"
   ]
  },
  {
   "cell_type": "code",
   "execution_count": 387,
   "metadata": {
    "collapsed": false
   },
   "outputs": [
    {
     "data": {
      "text/plain": [
       "array([[1, 2],\n",
       "       [3, 4],\n",
       "       [5, 6]])"
      ]
     },
     "execution_count": 387,
     "metadata": {},
     "output_type": "execute_result"
    }
   ],
   "source": [
    "c = b.reshape(a.shape)\n",
    "c"
   ]
  },
  {
   "cell_type": "code",
   "execution_count": 388,
   "metadata": {
    "collapsed": false
   },
   "outputs": [
    {
     "data": {
      "text/plain": [
       "(3, 2)"
      ]
     },
     "execution_count": 388,
     "metadata": {},
     "output_type": "execute_result"
    }
   ],
   "source": [
    "c.shape"
   ]
  },
  {
   "cell_type": "code",
   "execution_count": 389,
   "metadata": {
    "collapsed": false
   },
   "outputs": [
    {
     "data": {
      "text/plain": [
       "array([0, 1, 2, 3])"
      ]
     },
     "execution_count": 389,
     "metadata": {},
     "output_type": "execute_result"
    }
   ],
   "source": [
    "np.arange(4)"
   ]
  },
  {
   "cell_type": "code",
   "execution_count": null,
   "metadata": {
    "collapsed": true
   },
   "outputs": [],
   "source": []
  }
 ],
 "metadata": {
  "anaconda-cloud": {},
  "kernelspec": {
   "display_name": "Python [default]",
   "language": "python",
   "name": "python3"
  },
  "language_info": {
   "codemirror_mode": {
    "name": "ipython",
    "version": 3
   },
   "file_extension": ".py",
   "mimetype": "text/x-python",
   "name": "python",
   "nbconvert_exporter": "python",
   "pygments_lexer": "ipython3",
   "version": "3.5.2"
  }
 },
 "nbformat": 4,
 "nbformat_minor": 1
}
