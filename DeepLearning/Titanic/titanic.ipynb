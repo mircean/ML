{
 "cells": [
  {
   "cell_type": "code",
   "execution_count": 1,
   "metadata": {
    "collapsed": false
   },
   "outputs": [
    {
     "name": "stderr",
     "output_type": "stream",
     "text": [
      "Using TensorFlow backend.\n"
     ]
    }
   ],
   "source": [
    "import numpy as np\n",
    "import pandas as pd\n",
    "import matplotlib.pyplot as plt\n",
    "\n",
    "import importlib\n",
    "\n",
    "import sklearn\n",
    "import sklearn.datasets\n",
    "import sklearn.linear_model\n",
    "from sklearn import preprocessing\n",
    "#from sklearn.model_selection import train_test_split\n",
    "from sklearn.cross_validation import train_test_split\n",
    "from sklearn.metrics import accuracy_score\n",
    "\n",
    "from sklearn.ensemble import RandomForestClassifier\n",
    "\n",
    "#dnn\n",
    "import os,sys,inspect\n",
    "currentdir = os.path.dirname(os.path.abspath(inspect.getfile(inspect.currentframe())))\n",
    "parentdir = os.path.dirname(currentdir)\n",
    "sys.path.insert(0,parentdir) \n",
    "import DNN\n",
    "\n",
    "#keras\n",
    "import keras\n",
    "from keras.models import Sequential\n",
    "from keras.layers import Dense\n",
    "from keras import optimizers\n",
    "from keras import regularizers\n",
    "\n",
    "%matplotlib inline"
   ]
  },
  {
   "cell_type": "code",
   "execution_count": 242,
   "metadata": {
    "collapsed": false,
    "scrolled": true
   },
   "outputs": [
    {
     "data": {
      "text/plain": [
       "(['def scale(X, axis=0, with_mean=True, with_std=True, copy=True):\\n',\n",
       "  '    \"\"\"Standardize a dataset along any axis\\n',\n",
       "  '\\n',\n",
       "  '    Center to the mean and component wise scale to unit variance.\\n',\n",
       "  '\\n',\n",
       "  '    Read more in the :ref:`User Guide <preprocessing_scaler>`.\\n',\n",
       "  '\\n',\n",
       "  '    Parameters\\n',\n",
       "  '    ----------\\n',\n",
       "  '    X : {array-like, sparse matrix}\\n',\n",
       "  '        The data to center and scale.\\n',\n",
       "  '\\n',\n",
       "  '    axis : int (0 by default)\\n',\n",
       "  '        axis used to compute the means and standard deviations along. If 0,\\n',\n",
       "  '        independently standardize each feature, otherwise (if 1) standardize\\n',\n",
       "  '        each sample.\\n',\n",
       "  '\\n',\n",
       "  '    with_mean : boolean, True by default\\n',\n",
       "  '        If True, center the data before scaling.\\n',\n",
       "  '\\n',\n",
       "  '    with_std : boolean, True by default\\n',\n",
       "  '        If True, scale the data to unit variance (or equivalently,\\n',\n",
       "  '        unit standard deviation).\\n',\n",
       "  '\\n',\n",
       "  '    copy : boolean, optional, default True\\n',\n",
       "  '        set to False to perform inplace row normalization and avoid a\\n',\n",
       "  '        copy (if the input is already a numpy array or a scipy.sparse\\n',\n",
       "  '        CSR matrix and if axis is 1).\\n',\n",
       "  '\\n',\n",
       "  '    Notes\\n',\n",
       "  '    -----\\n',\n",
       "  '    This implementation will refuse to center scipy.sparse matrices\\n',\n",
       "  '    since it would make them non-sparse and would potentially crash the\\n',\n",
       "  '    program with memory exhaustion problems.\\n',\n",
       "  '\\n',\n",
       "  '    Instead the caller is expected to either set explicitly\\n',\n",
       "  '    `with_mean=False` (in that case, only variance scaling will be\\n',\n",
       "  '    performed on the features of the CSR matrix) or to call `X.toarray()`\\n',\n",
       "  '    if he/she expects the materialized dense array to fit in memory.\\n',\n",
       "  '\\n',\n",
       "  '    To avoid memory copy the caller should pass a CSR matrix.\\n',\n",
       "  '\\n',\n",
       "  '    See also\\n',\n",
       "  '    --------\\n',\n",
       "  '    :class:`sklearn.preprocessing.StandardScaler` to perform centering and\\n',\n",
       "  '    scaling using the ``Transformer`` API (e.g. as part of a preprocessing\\n',\n",
       "  '    :class:`sklearn.pipeline.Pipeline`)\\n',\n",
       "  '    \"\"\"\\n',\n",
       "  \"    X = check_array(X, accept_sparse='csr', copy=copy, ensure_2d=False,\\n\",\n",
       "  \"                    warn_on_dtype=True, estimator='the scale function',\\n\",\n",
       "  '                    dtype=FLOAT_DTYPES)\\n',\n",
       "  '    if sparse.issparse(X):\\n',\n",
       "  '        if with_mean:\\n',\n",
       "  '            raise ValueError(\\n',\n",
       "  '                \"Cannot center sparse matrices: pass `with_mean=False` instead\"\\n',\n",
       "  '                \" See docstring for motivation and alternatives.\")\\n',\n",
       "  '        if axis != 0:\\n',\n",
       "  '            raise ValueError(\"Can only scale sparse matrix on axis=0, \"\\n',\n",
       "  '                             \" got axis=%d\" % axis)\\n',\n",
       "  '        if not sparse.isspmatrix_csr(X):\\n',\n",
       "  '            X = X.tocsr()\\n',\n",
       "  '            copy = False\\n',\n",
       "  '        if copy:\\n',\n",
       "  '            X = X.copy()\\n',\n",
       "  '        if with_std:\\n',\n",
       "  '            _, var = mean_variance_axis(X, axis=0)\\n',\n",
       "  '            var = _handle_zeros_in_scale(var, copy=False)\\n',\n",
       "  '            inplace_column_scale(X, 1 / np.sqrt(var))\\n',\n",
       "  '    else:\\n',\n",
       "  '        X = np.asarray(X)\\n',\n",
       "  '        if with_mean:\\n',\n",
       "  '            mean_ = np.mean(X, axis)\\n',\n",
       "  '        if with_std:\\n',\n",
       "  '            scale_ = np.std(X, axis)\\n',\n",
       "  '        if copy:\\n',\n",
       "  '            X = X.copy()\\n',\n",
       "  '        # Xr is a view on the original array that enables easy use of\\n',\n",
       "  '        # broadcasting on the axis in which we are interested in\\n',\n",
       "  '        Xr = np.rollaxis(X, axis)\\n',\n",
       "  '        if with_mean:\\n',\n",
       "  '            Xr -= mean_\\n',\n",
       "  '            mean_1 = Xr.mean(axis=0)\\n',\n",
       "  \"            # Verify that mean_1 is 'close to zero'. If X contains very\\n\",\n",
       "  '            # large values, mean_1 can also be very large, due to a lack of\\n',\n",
       "  '            # precision of mean_. In this case, a pre-scaling of the\\n',\n",
       "  '            # concerned feature is efficient, for instance by its mean or\\n',\n",
       "  '            # maximum.\\n',\n",
       "  '            if not np.allclose(mean_1, 0):\\n',\n",
       "  '                warnings.warn(\"Numerical issues were encountered \"\\n',\n",
       "  '                              \"when centering the data \"\\n',\n",
       "  '                              \"and might not be solved. Dataset may \"\\n',\n",
       "  '                              \"contain too large values. You may need \"\\n',\n",
       "  '                              \"to prescale your features.\")\\n',\n",
       "  '                Xr -= mean_1\\n',\n",
       "  '        if with_std:\\n',\n",
       "  '            scale_ = _handle_zeros_in_scale(scale_, copy=False)\\n',\n",
       "  '            Xr /= scale_\\n',\n",
       "  '            if with_mean:\\n',\n",
       "  '                mean_2 = Xr.mean(axis=0)\\n',\n",
       "  \"                # If mean_2 is not 'close to zero', it comes from the fact that\\n\",\n",
       "  '                # scale_ is very small so that mean_2 = mean_1/scale_ > 0, even\\n',\n",
       "  '                # if mean_1 was close to zero. The problem is thus essentially\\n',\n",
       "  '                # due to the lack of precision of mean_. A solution is then to\\n',\n",
       "  '                # substract the mean again:\\n',\n",
       "  '                if not np.allclose(mean_2, 0):\\n',\n",
       "  '                    warnings.warn(\"Numerical issues were encountered \"\\n',\n",
       "  '                                  \"when scaling the data \"\\n',\n",
       "  '                                  \"and might not be solved. The standard \"\\n',\n",
       "  '                                  \"deviation of the data is probably \"\\n',\n",
       "  '                                  \"very close to 0. \")\\n',\n",
       "  '                    Xr -= mean_2\\n',\n",
       "  '    return X\\n'],\n",
       " 79)"
      ]
     },
     "execution_count": 242,
     "metadata": {},
     "output_type": "execute_result"
    }
   ],
   "source": [
    "import inspect\n",
    "inspect.getsourcelines(preprocessing.scale) "
   ]
  },
  {
   "cell_type": "code",
   "execution_count": 2,
   "metadata": {
    "collapsed": false,
    "scrolled": true
   },
   "outputs": [
    {
     "name": "stdout",
     "output_type": "stream",
     "text": [
      "(712, 10)\n",
      "(712,)\n",
      "(179, 10)\n",
      "(179,)\n"
     ]
    }
   ],
   "source": [
    "test_size=0.2\n",
    "\n",
    "df_train = pd.read_csv(r'train.csv')\n",
    "df_train.index = df_train.PassengerId\n",
    "\n",
    "y = df_train.Survived.values\n",
    "df_train = df_train.drop(['Survived'], axis=1)\n",
    "\n",
    "#remove columns\n",
    "df_train = df_train.drop(['Name', 'Ticket', 'PassengerId', 'Cabin'], axis=1)\n",
    "\n",
    "#fill n/a\n",
    "df_train['Age'] = df_train.Age.fillna(-1)\n",
    "df_train['Embarked'] = df_train.Embarked.fillna('X')\n",
    "\n",
    "#one hot encoding. OK to do it for all data, inlcuding df_predict\n",
    "df_train['Sex'] = (df_train.Sex == 'male').astype(int)\n",
    "\n",
    "df_dummy = pd.get_dummies(df_train.Embarked, prefix='Embarked')\n",
    "df_train = df_train.drop(['Embarked'], axis=1)\n",
    "df_train = pd.concat((df_train, df_dummy), axis=1)\n",
    "\n",
    "#df_train\n",
    "#df_predict\n",
    "\n",
    "X = df_train.values\n",
    "X_train, X_dev, y_train, y_dev = train_test_split(X, y, test_size=test_size, random_state=0)\n",
    "\n",
    "#scale: X = (X - X.mean(axis=0))/np.sqrt(X.var(axis=0))\n",
    "#X = preprocessing.scale(X)\n",
    "\n",
    "#normalization - mean, var from train set, apply to dev set and test set\n",
    "scaler = preprocessing.StandardScaler().fit(X_train)\n",
    "X_train = scaler.transform(X_train)   \n",
    "X_dev = scaler.transform(X_dev)\n",
    "\n",
    "X_train_k = X_train\n",
    "X_dev_k = X_dev\n",
    "Y_train_k = y_train.reshape(y_train.shape[0], 1)\n",
    "Y_dev_k = y_dev.reshape(y_dev.shape[0], 1)\n",
    "\n",
    "X_train_my = X_train.T\n",
    "X_dev_my = X_dev.T\n",
    "Y_train_my = y_train.reshape(1, y_train.shape[0])\n",
    "Y_dev_my = y_dev.reshape(1, y_dev.shape[0])\n",
    "\n",
    "print(X_train.shape)\n",
    "print(y_train.shape)\n",
    "print(X_dev.shape)\n",
    "print(y_dev.shape)"
   ]
  },
  {
   "cell_type": "code",
   "execution_count": 100,
   "metadata": {
    "collapsed": false
   },
   "outputs": [
    {
     "data": {
      "text/plain": [
       "count     889\n",
       "unique      3\n",
       "top         S\n",
       "freq      644\n",
       "Name: Embarked, dtype: object"
      ]
     },
     "execution_count": 100,
     "metadata": {},
     "output_type": "execute_result"
    }
   ],
   "source": [
    "df_train.Embarked.describe()"
   ]
  },
  {
   "cell_type": "code",
   "execution_count": 119,
   "metadata": {
    "collapsed": false,
    "scrolled": true
   },
   "outputs": [
    {
     "data": {
      "image/png": "[encoded data removed]",
      "text/plain": [
       "<matplotlib.figure.Figure at 0x2a17bce3710>"
      ]
     },
     "metadata": {},
     "output_type": "display_data"
    }
   ],
   "source": [
    "df_train.Embarked_C.hist()\n",
    "plt.show()"
   ]
  },
  {
   "cell_type": "code",
   "execution_count": 22,
   "metadata": {
    "collapsed": false
   },
   "outputs": [
    {
     "name": "stdout",
     "output_type": "stream",
     "text": [
      "<class 'sklearn.linear_model.logistic.LogisticRegressionCV'> 0.803370786517 0.804469273743\n",
      "<class 'sklearn.ensemble.forest.RandomForestClassifier'> 0.981741573034 0.843575418994\n"
     ]
    }
   ],
   "source": [
    "np.random.seed(0) # set a seed so that the results are consistent\n",
    "\n",
    "clfs = [sklearn.linear_model.LogisticRegressionCV(),\n",
    "        RandomForestClassifier(n_estimators=100, n_jobs=-1)]  \n",
    "\n",
    "for clf in clfs:\n",
    "    clf.fit(X_train, y_train);\n",
    "    predictions = clf.predict(X_train)\n",
    "    accuracy = accuracy_score(predictions, y_train)\n",
    "    predictions = clf.predict(X_dev)\n",
    "    accuracy2 = accuracy_score(predictions, y_dev)\n",
    "    print(type(clf), accuracy, accuracy2)\n",
    "   "
   ]
  },
  {
   "cell_type": "code",
   "execution_count": 67,
   "metadata": {
    "collapsed": false
   },
   "outputs": [],
   "source": [
    "class MyCallback(keras.callbacks.Callback):\n",
    "    def __init__(self, verbose):\n",
    "        self.verbose = verbose\n",
    "\n",
    "    def on_epoch_begin(self, epoch, logs=None):\n",
    "        pass\n",
    "\n",
    "    def on_epoch_end(self, epoch, logs=None):\n",
    "        if self.verbose != None and epoch % self.verbose == 0:\n",
    "            print(epoch, logs['loss'], logs['acc'], logs['val_acc'])\n",
    "        \n"
   ]
  },
  {
   "cell_type": "code",
   "execution_count": 133,
   "metadata": {
    "collapsed": false
   },
   "outputs": [],
   "source": [
    "np.random.seed(0) # set a seed so that the results are consistent\n",
    "initializer = keras.initializers.RandomUniform(minval=0, maxval=0.01, seed=None)\n",
    "#RandomNormal works much better\n",
    "#initializer = keras.initializers.RandomNormal()\n",
    "regularizer = None\n",
    "#regularizer = regularizers.l2(0.1)\n",
    "model = Sequential()\n",
    "model.add(Dense(20, input_dim=X_train_k.shape[1], kernel_initializer=initializer, activation='tanh', kernel_regularizer=regularizer))\n",
    "model.add(Dense(20, kernel_initializer=initializer, activation='tanh', kernel_regularizer=regularizer))\n",
    "model.add(Dense(10, kernel_initializer=initializer, activation='tanh', kernel_regularizer=regularizer))\n",
    "model.add(Dense(1, kernel_initializer=initializer, activation='sigmoid', kernel_regularizer=regularizer))\n",
    "optimizer = optimizers.SGD(lr=0.05)\n",
    "model.compile(loss='binary_crossentropy', optimizer=optimizer, metrics=['accuracy'])"
   ]
  },
  {
   "cell_type": "code",
   "execution_count": 134,
   "metadata": {
    "collapsed": false,
    "scrolled": true
   },
   "outputs": [
    {
     "name": "stdout",
     "output_type": "stream",
     "text": [
      "0 0.693147242069 0.435393244028 0.614525139332\n",
      "1000 0.665717661381 0.616573035717 0.614525139332\n",
      "2000 0.665717542171 0.616573035717 0.614525139332\n",
      "3000 0.665717542171 0.616573035717 0.614525139332\n",
      "4000 0.665717601776 0.616573035717 0.614525139332\n",
      "5000 0.665717542171 0.616573035717 0.614525139332\n",
      "6000 0.665717542171 0.616573035717 0.614525139332\n",
      "7000 0.665717244148 0.616573035717 0.614525139332\n",
      "8000 0.665717244148 0.616573035717 0.614525139332\n",
      "9000 0.665717244148 0.616573035717 0.614525139332\n",
      "10000 0.665717244148 0.616573035717 0.614525139332\n",
      "11000 0.665717184544 0.616573035717 0.614525139332\n",
      "12000 0.665717124939 0.616573035717 0.614525139332\n",
      "13000 0.665717065334 0.616573035717 0.614525139332\n",
      "14000 0.665717065334 0.616573035717 0.614525139332\n",
      "15000 0.665717124939 0.616573035717 0.614525139332\n",
      "16000 0.665717363358 0.616573035717 0.614525139332\n",
      "17000 0.665717184544 0.616573035717 0.614525139332\n",
      "18000 0.665717065334 0.616573035717 0.614525139332\n",
      "19000 0.66571688652 0.616573035717 0.614525139332\n",
      "20000 0.66571700573 0.616573035717 0.614525139332\n",
      "21000 0.66571688652 0.616573035717 0.614525139332\n",
      "22000 0.665716707706 0.616573035717 0.614525139332\n",
      "23000 0.665716767311 0.616573035717 0.614525139332\n",
      "24000 0.665716767311 0.616573035717 0.614525139332\n",
      "25000 0.665716469288 0.616573035717 0.614525139332\n",
      "26000 0.665716350079 0.616573035717 0.614525139332\n",
      "27000 0.665716350079 0.616573035717 0.614525139332\n",
      "28000 0.665716290474 0.616573035717 0.614525139332\n",
      "29000 0.665716171265 0.616573035717 0.614525139332\n",
      "30000 0.665715873241 0.616573035717 0.614525139332\n",
      "31000 0.665715634823 0.616573035717 0.614525139332\n",
      "32000 0.665715396404 0.616573035717 0.614525139332\n",
      "33000 0.665714979172 0.616573035717 0.614525139332\n",
      "34000 0.665714502335 0.616573035717 0.614525139332\n",
      "35000 0.66571354866 0.616573035717 0.614525139332\n",
      "36000 0.665712177753 0.616573035717 0.614525139332\n",
      "37000 0.665710031986 0.616573035717 0.614525139332\n",
      "38000 0.665706336498 0.616573035717 0.614525139332\n",
      "39000 0.665699541569 0.616573035717 0.614525139332\n",
      "40000 0.665684103966 0.616573035717 0.614525139332\n",
      "41000 0.66563886404 0.616573035717 0.614525139332\n",
      "42000 0.665370225906 0.616573035717 0.614525139332\n",
      "43000 0.476390123367 0.779494404793 0.787709474564\n",
      "44000 0.459195286036 0.793539345264 0.810055851936\n",
      "45000 0.455170929432 0.794943809509 0.810055851936\n",
      "46000 0.44889831543 0.801966309547 0.815642476082\n",
      "47000 0.44438034296 0.811797738075 0.810055851936\n",
      "48000 0.442980527878 0.813202261925 0.815642476082\n",
      "49000 0.441396206617 0.807584285736 0.810055851936\n",
      "50000 0.437401860952 0.804775297642 0.810055851936\n",
      "51000 0.426706820726 0.813202261925 0.810055851936\n",
      "52000 0.410828709602 0.828651666641 0.79888266325\n",
      "53000 0.395422518253 0.837078630924 0.79888266325\n",
      "54000 0.383878976107 0.849719107151 0.804469287395\n",
      "55000 0.376163989305 0.852528095245 0.810055851936\n",
      "56000 0.369345247746 0.856741547585 0.804469287395\n",
      "57000 0.362181454897 0.859550535679 0.793296098709\n",
      "58000 0.354400992393 0.860955059528 0.776536285877\n",
      "59000 0.345256924629 0.863764047623 0.787709474564\n",
      "60000 0.336561858654 0.875 0.79888266325\n",
      "61000 0.330088853836 0.879213511944 0.793296098709\n",
      "62000 0.32463747263 0.880617976189 0.782122910023\n",
      "63000 0.318897902966 0.880617976189 0.776536285877\n",
      "64000 0.316647171974 0.883426964283 0.765363156796\n",
      "65000 0.313511699438 0.883426964283 0.770949721336\n",
      "66000 0.30708578229 0.882022500038 0.770949721336\n",
      "67000 0.300071835518 0.882022500038 0.810055851936\n",
      "68000 0.29273596406 0.884831488132 0.79888266325\n",
      "69000 0.286281704903 0.887640476227 0.79888266325\n",
      "70000 0.279888033867 0.893258452415 0.79888266325\n",
      "71000 0.273464620113 0.89606744051 0.79888266325\n",
      "72000 0.268815040588 0.890449464321 0.776536285877\n",
      "73000 0.263118773699 0.893258452415 0.776536285877\n",
      "74000 0.257819950581 0.893258452415 0.782122910023\n",
      "75000 0.252452880144 0.900280892849 0.793296098709\n",
      "76000 0.247776925564 0.903089880943 0.793296098709\n",
      "77000 0.242767184973 0.904494404793 0.79888266325\n",
      "78000 0.238789692521 0.905898869038 0.793296098709\n",
      "79000 0.234992295504 0.905898869038 0.793296098709\n",
      "80000 0.231392771006 0.904494404793 0.793296098709\n",
      "81000 0.228893712163 0.910112380981 0.793296098709\n",
      "82000 0.225631713867 0.910112380981 0.782122910023\n",
      "83000 0.223211035132 0.908707857132 0.765363156796\n",
      "84000 0.220290511847 0.908707857132 0.770949721336\n",
      "85000 0.217137411237 0.908707857132 0.770949721336\n",
      "86000 0.214062899351 0.911516845226 0.770949721336\n",
      "87000 0.211636528373 0.911516845226 0.765363156796\n",
      "88000 0.20963139832 0.910112380981 0.765363156796\n",
      "89000 0.207917004824 0.914325833321 0.765363156796\n",
      "90000 0.206355273724 0.914325833321 0.770949721336\n",
      "91000 0.204857051373 0.91573035717 0.782122910023\n",
      "92000 0.203279063106 0.91573035717 0.787709474564\n",
      "93000 0.20146496594 0.91573035717 0.776536285877\n",
      "94000 0.199350699782 0.919943809509 0.770949721336\n",
      "95000 0.197047501802 0.919943809509 0.770949721336\n",
      "96000 0.194643557072 0.921348333359 0.754189968109\n",
      "97000 0.192063063383 0.921348333359 0.748603343964\n",
      "98000 0.189198315144 0.921348333359 0.75977653265\n",
      "99000 0.186147108674 0.925561785698 0.75977653265\n",
      "Accuracy train 0.929775280899\n",
      "Accuracy dev 0.754189944134\n"
     ]
    }
   ],
   "source": [
    "np.random.seed(0) # set a seed so that the results are consistent\n",
    "initial_epoch = 0\n",
    "epochs = 100000\n",
    "verbose = 0\n",
    "verbose2 = 1000\n",
    "batch_size = int(X_train_k.shape[0])\n",
    "\n",
    "results = model.fit(X_train_k, Y_train_k, batch_size=batch_size, epochs=epochs, callbacks=[MyCallback(verbose2)], validation_data = (X_dev_k, Y_dev_k), verbose=verbose, initial_epoch=initial_epoch)\n",
    "\n",
    "Y_predict_k = model.predict(X_train_k)\n",
    "Y_predict_k = Y_predict_k > 0.5\n",
    "print('Accuracy train', accuracy_score(Y_train_k, Y_predict_k))\n",
    "\n",
    "Y_predict_k = model.predict(X_dev_k)\n",
    "Y_predict_k = Y_predict_k > 0.5\n",
    "print('Accuracy dev', accuracy_score(Y_dev_k, Y_predict_k))"
   ]
  },
  {
   "cell_type": "code",
   "execution_count": null,
   "metadata": {
    "collapsed": true
   },
   "outputs": [],
   "source": [
    "20/20/20/1, lr=0.1\n",
    "  100000 95.78 78.77\n",
    "20/20/10/1, lr=0.05\n",
    "  100000 92.97 75.41\n",
    "    \n",
    "+lambd=0.1"
   ]
  },
  {
   "cell_type": "code",
   "execution_count": 135,
   "metadata": {
    "collapsed": false
   },
   "outputs": [
    {
     "data": {
      "image/png": "[encoded data removed]",
      "text/plain": [
       "<matplotlib.figure.Figure at 0x135bf55e9b0>"
      ]
     },
     "metadata": {},
     "output_type": "display_data"
    }
   ],
   "source": [
    "plt.plot(results.history['loss'])\n",
    "plt.show()"
   ]
  },
  {
   "cell_type": "code",
   "execution_count": 136,
   "metadata": {
    "collapsed": false
   },
   "outputs": [
    {
     "data": {
      "image/png": "[encoded data removed]",
      "text/plain": [
       "<matplotlib.figure.Figure at 0x135b917a860>"
      ]
     },
     "metadata": {},
     "output_type": "display_data"
    }
   ],
   "source": [
    "plt.plot(results.history['acc'])\n",
    "plt.plot(results.history['val_acc'])\n",
    "plt.show()"
   ]
  },
  {
   "cell_type": "code",
   "execution_count": 34,
   "metadata": {
    "collapsed": false
   },
   "outputs": [
    {
     "data": {
      "text/plain": [
       "<module 'DNN' from 'C:\\\\Users\\\\mircean\\\\git\\\\ML\\\\DeepLearning\\\\DNN.py'>"
      ]
     },
     "execution_count": 34,
     "metadata": {},
     "output_type": "execute_result"
    }
   ],
   "source": [
    "importlib.reload(DNN)"
   ]
  },
  {
   "cell_type": "code",
   "execution_count": 35,
   "metadata": {
    "collapsed": false
   },
   "outputs": [],
   "source": [
    "#random seed for mini batch shuffle\n",
    "np.random.seed(0)\n",
    "dnn = DNN.DNN()\n",
    "dnn.add_input_layer(X_train_my.shape[0])\n",
    "dnn.add_layer(10, np.tanh)\n",
    "dnn.add_layer(10, np.tanh)\n",
    "dnn.add_layer(1, DNN.sigmoid)\n",
    "dnn.costfunction = DNN.binary_crossentropy\n",
    "dnn.init = 'Lecun'\n",
    "dnn.compile()"
   ]
  },
  {
   "cell_type": "code",
   "execution_count": 39,
   "metadata": {
    "collapsed": false,
    "scrolled": true
   },
   "outputs": [
    {
     "name": "stdout",
     "output_type": "stream",
     "text": [
      ".\n",
      "Cost after iteration 0 ['0.397462', '0.838483', '0.787709']\n",
      ".\n",
      "Cost after iteration 1000 ['0.391828', '0.832865', '0.793296']\n",
      ".\n",
      "Cost after iteration 2000 ['0.386577', '0.834270', '0.793296']\n",
      ".\n",
      "Cost after iteration 3000 ['0.381520', '0.839888', '0.787709']\n",
      ".\n",
      "Cost after iteration 4000 ['0.376555', '0.844101', '0.782123']\n",
      ".\n",
      "Cost after iteration 5000 ['0.371793', '0.844101', '0.787709']\n",
      ".\n",
      "Cost after iteration 6000 ['0.367481', '0.845506', '0.804469']\n",
      ".\n",
      "Cost after iteration 7000 ['0.363736', '0.851124', '0.804469']\n",
      ".\n",
      "Cost after iteration 8000 ['0.360514', '0.852528', '0.804469']\n",
      ".\n",
      "Cost after iteration 9000 ['0.357715', '0.855337', '0.815642']\n",
      ".\n",
      "Cost after iteration 10000 ['0.355243', '0.855337', '0.798883']\n",
      ".\n",
      "Cost after iteration 11000 ['0.353023', '0.855337', '0.798883']\n",
      ".\n",
      "Cost after iteration 12000 ['0.351004', '0.855337', '0.793296']\n",
      ".\n",
      "Cost after iteration 13000 ['0.349144', '0.858146', '0.793296']\n",
      ".\n",
      "Cost after iteration 14000 ['0.347409', '0.859551', '0.793296']\n",
      ".\n",
      "Cost after iteration 15000 ['0.345769', '0.858146', '0.787709']\n",
      ".\n",
      "Cost after iteration 16000 ['0.344193', '0.858146', '0.798883']\n",
      ".\n",
      "Cost after iteration 17000 ['0.342657', '0.856742', '0.798883']\n",
      ".\n",
      "Cost after iteration 18000 ['0.341140', '0.859551', '0.798883']\n",
      ".\n",
      "Cost after iteration 19000 ['0.339629', '0.862360', '0.798883']\n",
      ".\n",
      "Cost after iteration 20000 ['0.338114', '0.865169', '0.793296']\n",
      ".\n",
      "Cost after iteration 21000 ['0.336594', '0.867978', '0.793296']\n",
      ".\n",
      "Cost after iteration 22000 ['0.335071', '0.869382', '0.793296']\n",
      ".\n",
      "Cost after iteration 23000 ['0.333549', '0.870787', '0.798883']\n",
      ".\n",
      "Cost after iteration 24000 ['0.332034', '0.872191', '0.793296']\n",
      ".\n",
      "Cost after iteration 25000 ['0.330529', '0.870787', '0.793296']\n",
      ".\n",
      "Cost after iteration 26000 ['0.329034', '0.869382', '0.787709']\n",
      ".\n",
      "Cost after iteration 27000 ['0.327549', '0.869382', '0.787709']\n",
      ".\n",
      "Cost after iteration 28000 ['0.326071', '0.867978', '0.787709']\n",
      ".\n",
      "Cost after iteration 29000 ['0.324598', '0.869382', '0.793296']\n",
      ".\n",
      "Cost after iteration 30000 ['0.323128', '0.872191', '0.787709']\n",
      ".\n",
      "Cost after iteration 31000 ['0.321661', '0.873596', '0.782123']\n",
      ".\n",
      "Cost after iteration 32000 ['0.320197', '0.875000', '0.782123']\n",
      ".\n",
      "Cost after iteration 33000 ['0.318740', '0.875000', '0.787709']\n",
      ".\n",
      "Cost after iteration 34000 ['0.317293', '0.877809', '0.787709']\n",
      ".\n",
      "Cost after iteration 35000 ['0.315861', '0.877809', '0.793296']\n",
      ".\n",
      "Cost after iteration 36000 ['0.314451', '0.877809', '0.793296']\n",
      ".\n",
      "Cost after iteration 37000 ['0.313065', '0.879213', '0.793296']\n",
      ".\n",
      "Cost after iteration 38000 ['0.311706', '0.879213', '0.793296']\n",
      ".\n",
      "Cost after iteration 39000 ['0.310375', '0.880618', '0.793296']\n",
      ".\n",
      "Cost after iteration 40000 ['0.309071', '0.880618', '0.793296']\n",
      ".\n",
      "Cost after iteration 41000 ['0.307792', '0.880618', '0.793296']\n",
      ".\n",
      "Cost after iteration 42000 ['0.306538', '0.880618', '0.798883']\n",
      ".\n",
      "Cost after iteration 43000 ['0.305307', '0.882022', '0.798883']\n",
      ".\n",
      "Cost after iteration 44000 ['0.304102', '0.882022', '0.798883']\n",
      ".\n",
      "Cost after iteration 45000 ['0.302923', '0.882022', '0.798883']\n",
      ".\n",
      "Cost after iteration 46000 ['0.301771', '0.882022', '0.798883']\n",
      ".\n",
      "Cost after iteration 47000 ['0.300647', '0.883427', '0.798883']\n",
      ".\n",
      "Cost after iteration 48000 ['0.299551', '0.883427', '0.798883']\n",
      ".\n",
      "Cost after iteration 49000 ['0.298482', '0.883427', '0.798883']\n",
      ".\n",
      "Cost after iteration 50000 ['0.297439', '0.883427', '0.798883']\n",
      ".\n",
      "Cost after iteration 51000 ['0.296420', '0.883427', '0.798883']\n",
      ".\n",
      "Cost after iteration 52000 ['0.295423', '0.883427', '0.798883']\n",
      ".\n",
      "Cost after iteration 53000 ['0.294447', '0.882022', '0.798883']\n",
      ".\n",
      "Cost after iteration 54000 ['0.293490', '0.882022', '0.798883']\n",
      ".\n",
      "Cost after iteration 55000 ['0.292550', '0.882022', '0.798883']\n",
      ".\n",
      "Cost after iteration 56000 ['0.291628', '0.883427', '0.798883']\n",
      ".\n",
      "Cost after iteration 57000 ['0.290721', '0.882022', '0.798883']\n",
      ".\n",
      "Cost after iteration 58000 ['0.289830', '0.882022', '0.793296']\n",
      ".\n",
      "Cost after iteration 59000 ['0.288955', '0.882022', '0.793296']\n",
      ".\n",
      "Cost after iteration 60000 ['0.288095', '0.883427', '0.793296']\n",
      ".\n",
      "Cost after iteration 61000 ['0.287250', '0.883427', '0.787709']\n",
      ".\n",
      "Cost after iteration 62000 ['0.286421', '0.883427', '0.787709']\n",
      ".\n",
      "Cost after iteration 63000 ['0.285609', '0.883427', '0.787709']\n",
      ".\n",
      "Cost after iteration 64000 ['0.284812', '0.883427', '0.787709']\n",
      ".\n",
      "Cost after iteration 65000 ['0.284032', '0.883427', '0.793296']\n",
      ".\n",
      "Cost after iteration 66000 ['0.283269', '0.883427', '0.793296']\n",
      ".\n",
      "Cost after iteration 67000 ['0.282521', '0.884831', '0.793296']\n",
      ".\n",
      "Cost after iteration 68000 ['0.281789', '0.886236', '0.793296']\n",
      ".\n",
      "Cost after iteration 69000 ['0.281073', '0.886236', '0.793296']\n",
      ".\n",
      "Cost after iteration 70000 ['0.280371', '0.886236', '0.793296']\n",
      ".\n",
      "Cost after iteration 71000 ['0.279682', '0.886236', '0.793296']\n",
      ".\n",
      "Cost after iteration 72000 ['0.279007', '0.886236', '0.793296']\n",
      ".\n",
      "Cost after iteration 73000 ['0.278344', '0.886236', '0.793296']\n",
      ".\n",
      "Cost after iteration 74000 ['0.277692', '0.886236', '0.793296']\n",
      ".\n",
      "Cost after iteration 75000 ['0.277050', '0.886236', '0.793296']\n",
      ".\n",
      "Cost after iteration 76000 ['0.276417', '0.886236', '0.793296']\n",
      ".\n",
      "Cost after iteration 77000 ['0.275792', '0.886236', '0.793296']\n",
      ".\n",
      "Cost after iteration 78000 ['0.275175', '0.886236', '0.787709']\n",
      ".\n",
      "Cost after iteration 79000 ['0.274564', '0.887640', '0.787709']\n",
      ".\n",
      "Cost after iteration 80000 ['0.273960', '0.889045', '0.787709']\n",
      ".\n",
      "Cost after iteration 81000 ['0.273361', '0.889045', '0.787709']\n",
      ".\n",
      "Cost after iteration 82000 ['0.272768', '0.889045', '0.787709']\n",
      ".\n",
      "Cost after iteration 83000 ['0.272181', '0.890449', '0.787709']\n",
      ".\n",
      "Cost after iteration 84000 ['0.271599', '0.891854', '0.787709']\n",
      ".\n",
      "Cost after iteration 85000 ['0.271025', '0.891854', '0.787709']\n",
      ".\n",
      "Cost after iteration 86000 ['0.270457', '0.893258', '0.793296']\n",
      ".\n",
      "Cost after iteration 87000 ['0.269896', '0.893258', '0.793296']\n",
      ".\n",
      "Cost after iteration 88000 ['0.269344', '0.893258', '0.793296']\n",
      ".\n",
      "Cost after iteration 89000 ['0.268800', '0.893258', '0.793296']\n",
      ".\n",
      "Cost after iteration 90000 ['0.268266', '0.893258', '0.793296']\n",
      ".\n",
      "Cost after iteration 91000 ['0.267740', '0.893258', '0.793296']\n",
      ".\n",
      "Cost after iteration 92000 ['0.267224', '0.896067', '0.793296']\n",
      ".\n",
      "Cost after iteration 93000 ['0.266717', '0.896067', '0.798883']\n",
      ".\n",
      "Cost after iteration 94000 ['0.266219', '0.896067', '0.798883']\n",
      ".\n",
      "Cost after iteration 95000 ['0.265731', '0.894663', '0.798883']\n",
      ".\n",
      "Cost after iteration 96000 ['0.265252', '0.894663', '0.798883']\n",
      ".\n",
      "Cost after iteration 97000 ['0.264782', '0.894663', '0.798883']\n",
      ".\n",
      "Cost after iteration 98000 ['0.264321', '0.894663', '0.787709']\n",
      ".\n",
      "Cost after iteration 99000 ['0.263868', '0.894663', '0.787709']\n",
      "Accuracy train 0.893258426966\n",
      "Accuracy dev 0.787709497207\n"
     ]
    }
   ],
   "source": [
    "#random seed for mini batch shuffle\n",
    "np.random.seed(0)\n",
    "\n",
    "learning_rate = 0.01\n",
    "num_iterations = 100000\n",
    "batch_size = int(X_train_my.shape[1])\n",
    "verbose = 1000\n",
    "gradient_check = False\n",
    "\n",
    "#eval_set = None\n",
    "eval_set = [(X_train_my, Y_train_my), (X_dev_my, Y_dev_my)]\n",
    "results = dnn.fit(X_train_my, Y_train_my, eval_set=eval_set, eval_metric='error', learning_rate=learning_rate, batch_size=batch_size, num_iterations=num_iterations, verbose=verbose, gradient_check=gradient_check)\n",
    "\n",
    "Y_predict_my = dnn.predict(X_train_my)\n",
    "Y_predict_my = Y_predict_my > 0.5\n",
    "accuracy = accuracy_score(np.reshape(Y_train_my, Y_train_my.shape[1]), np.reshape(Y_predict_my, Y_predict_my.shape[1]))\n",
    "print('Accuracy train', accuracy)\n",
    "\n",
    "Y_predict_my = dnn.predict(X_dev_my)\n",
    "Y_predict_my = Y_predict_my > 0.5\n",
    "accuracy = accuracy_score(np.reshape(Y_dev_my, Y_dev_my.shape[1]), np.reshape(Y_predict_my, Y_predict_my.shape[1]))\n",
    "print('Accuracy dev', accuracy)\n"
   ]
  },
  {
   "cell_type": "code",
   "execution_count": null,
   "metadata": {
    "collapsed": true
   },
   "outputs": [],
   "source": [
    "10/10 0.01/110K\n",
    "Accuracy train 0.893258426966\n",
    "Accuracy dev 0.787709497207"
   ]
  },
  {
   "cell_type": "code",
   "execution_count": 40,
   "metadata": {
    "collapsed": false
   },
   "outputs": [
    {
     "data": {
      "image/png": "[encoded data removed]",
      "text/plain": [
       "<matplotlib.figure.Figure at 0x293a60f7748>"
      ]
     },
     "metadata": {},
     "output_type": "display_data"
    }
   ],
   "source": [
    "plt.plot(results['loss'])\n",
    "plt.show()"
   ]
  },
  {
   "cell_type": "code",
   "execution_count": 41,
   "metadata": {
    "collapsed": false
   },
   "outputs": [
    {
     "data": {
      "image/png": "[encoded data removed]",
      "text/plain": [
       "<matplotlib.figure.Figure at 0x293a61beb38>"
      ]
     },
     "metadata": {},
     "output_type": "display_data"
    }
   ],
   "source": [
    "plt.plot(results['eval0'])\n",
    "plt.plot(results['eval1'])\n",
    "plt.show()"
   ]
  },
  {
   "cell_type": "code",
   "execution_count": 21,
   "metadata": {
    "collapsed": false
   },
   "outputs": [
    {
     "data": {
      "text/plain": [
       "array([ 299.99999811])"
      ]
     },
     "execution_count": 21,
     "metadata": {},
     "output_type": "execute_result"
    }
   ],
   "source": [
    "epsilon=1e-7\n",
    "approx = np.array([(np.power((10+epsilon), 3) - np.power((10-epsilon), 3))/2/epsilon])\n",
    "approx"
   ]
  },
  {
   "cell_type": "code",
   "execution_count": 22,
   "metadata": {
    "collapsed": false
   },
   "outputs": [],
   "source": [
    "grad = np.array([300])"
   ]
  },
  {
   "cell_type": "code",
   "execution_count": 23,
   "metadata": {
    "collapsed": false
   },
   "outputs": [
    {
     "data": {
      "text/plain": [
       "array([  1.89429556e-06])"
      ]
     },
     "execution_count": 23,
     "metadata": {},
     "output_type": "execute_result"
    }
   ],
   "source": [
    "grad - approx"
   ]
  },
  {
   "cell_type": "code",
   "execution_count": 24,
   "metadata": {
    "collapsed": false
   },
   "outputs": [
    {
     "data": {
      "text/plain": [
       "3.1571592847220796e-09"
      ]
     },
     "execution_count": 24,
     "metadata": {},
     "output_type": "execute_result"
    }
   ],
   "source": [
    "numerator = np.linalg.norm(grad - aprox)                     \n",
    "denominator = np.linalg.norm(grad) + np.linalg.norm(approx)   \n",
    "difference = numerator/denominator                                \n",
    "difference"
   ]
  },
  {
   "cell_type": "code",
   "execution_count": 26,
   "metadata": {
    "collapsed": false
   },
   "outputs": [
    {
     "data": {
      "text/plain": [
       "1"
      ]
     },
     "execution_count": 26,
     "metadata": {},
     "output_type": "execute_result"
    }
   ],
   "source": [
    "a=np.array([[1,2],[3,4]])\n",
    "a[0,0]"
   ]
  },
  {
   "cell_type": "code",
   "execution_count": 27,
   "metadata": {
    "collapsed": false
   },
   "outputs": [
    {
     "data": {
      "text/plain": [
       "array([[1, 2],\n",
       "       [3, 4]])"
      ]
     },
     "execution_count": 27,
     "metadata": {},
     "output_type": "execute_result"
    }
   ],
   "source": [
    "a\n"
   ]
  },
  {
   "cell_type": "code",
   "execution_count": null,
   "metadata": {
    "collapsed": true
   },
   "outputs": [],
   "source": []
  }
 ],
 "metadata": {
  "anaconda-cloud": {},
  "kernelspec": {
   "display_name": "Python [default]",
   "language": "python",
   "name": "python3"
  },
  "language_info": {
   "codemirror_mode": {
    "name": "ipython",
    "version": 3
   },
   "file_extension": ".py",
   "mimetype": "text/x-python",
   "name": "python",
   "nbconvert_exporter": "python",
   "pygments_lexer": "ipython3",
   "version": "3.5.2"
  }
 },
 "nbformat": 4,
 "nbformat_minor": 1
}
