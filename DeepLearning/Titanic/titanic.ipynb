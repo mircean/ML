{
 "cells": [
  {
   "cell_type": "code",
   "execution_count": 2,
   "metadata": {
    "collapsed": false
   },
   "outputs": [
    {
     "name": "stderr",
     "output_type": "stream",
     "text": [
      "Using TensorFlow backend.\n"
     ]
    }
   ],
   "source": [
    "import numpy as np\n",
    "import pandas as pd\n",
    "import matplotlib.pyplot as plt\n",
    "\n",
    "import importlib\n",
    "\n",
    "import sklearn\n",
    "import sklearn.datasets\n",
    "import sklearn.linear_model\n",
    "from sklearn import preprocessing\n",
    "#from sklearn.model_selection import train_test_split\n",
    "from sklearn.cross_validation import train_test_split\n",
    "from sklearn.metrics import accuracy_score\n",
    "\n",
    "from sklearn.ensemble import RandomForestClassifier\n",
    "\n",
    "#dnn\n",
    "import os,sys,inspect\n",
    "currentdir = os.path.dirname(os.path.abspath(inspect.getfile(inspect.currentframe())))\n",
    "parentdir = os.path.dirname(currentdir)\n",
    "sys.path.insert(0,parentdir) \n",
    "import DNN\n",
    "\n",
    "#keras\n",
    "import keras\n",
    "from keras.models import Sequential\n",
    "from keras.layers import Dense\n",
    "from keras import optimizers\n",
    "from keras import regularizers\n",
    "\n",
    "%matplotlib inline"
   ]
  },
  {
   "cell_type": "code",
   "execution_count": 242,
   "metadata": {
    "collapsed": false,
    "scrolled": true
   },
   "outputs": [
    {
     "data": {
      "text/plain": [
       "(['def scale(X, axis=0, with_mean=True, with_std=True, copy=True):\\n',\n",
       "  '    \"\"\"Standardize a dataset along any axis\\n',\n",
       "  '\\n',\n",
       "  '    Center to the mean and component wise scale to unit variance.\\n',\n",
       "  '\\n',\n",
       "  '    Read more in the :ref:`User Guide <preprocessing_scaler>`.\\n',\n",
       "  '\\n',\n",
       "  '    Parameters\\n',\n",
       "  '    ----------\\n',\n",
       "  '    X : {array-like, sparse matrix}\\n',\n",
       "  '        The data to center and scale.\\n',\n",
       "  '\\n',\n",
       "  '    axis : int (0 by default)\\n',\n",
       "  '        axis used to compute the means and standard deviations along. If 0,\\n',\n",
       "  '        independently standardize each feature, otherwise (if 1) standardize\\n',\n",
       "  '        each sample.\\n',\n",
       "  '\\n',\n",
       "  '    with_mean : boolean, True by default\\n',\n",
       "  '        If True, center the data before scaling.\\n',\n",
       "  '\\n',\n",
       "  '    with_std : boolean, True by default\\n',\n",
       "  '        If True, scale the data to unit variance (or equivalently,\\n',\n",
       "  '        unit standard deviation).\\n',\n",
       "  '\\n',\n",
       "  '    copy : boolean, optional, default True\\n',\n",
       "  '        set to False to perform inplace row normalization and avoid a\\n',\n",
       "  '        copy (if the input is already a numpy array or a scipy.sparse\\n',\n",
       "  '        CSR matrix and if axis is 1).\\n',\n",
       "  '\\n',\n",
       "  '    Notes\\n',\n",
       "  '    -----\\n',\n",
       "  '    This implementation will refuse to center scipy.sparse matrices\\n',\n",
       "  '    since it would make them non-sparse and would potentially crash the\\n',\n",
       "  '    program with memory exhaustion problems.\\n',\n",
       "  '\\n',\n",
       "  '    Instead the caller is expected to either set explicitly\\n',\n",
       "  '    `with_mean=False` (in that case, only variance scaling will be\\n',\n",
       "  '    performed on the features of the CSR matrix) or to call `X.toarray()`\\n',\n",
       "  '    if he/she expects the materialized dense array to fit in memory.\\n',\n",
       "  '\\n',\n",
       "  '    To avoid memory copy the caller should pass a CSR matrix.\\n',\n",
       "  '\\n',\n",
       "  '    See also\\n',\n",
       "  '    --------\\n',\n",
       "  '    :class:`sklearn.preprocessing.StandardScaler` to perform centering and\\n',\n",
       "  '    scaling using the ``Transformer`` API (e.g. as part of a preprocessing\\n',\n",
       "  '    :class:`sklearn.pipeline.Pipeline`)\\n',\n",
       "  '    \"\"\"\\n',\n",
       "  \"    X = check_array(X, accept_sparse='csr', copy=copy, ensure_2d=False,\\n\",\n",
       "  \"                    warn_on_dtype=True, estimator='the scale function',\\n\",\n",
       "  '                    dtype=FLOAT_DTYPES)\\n',\n",
       "  '    if sparse.issparse(X):\\n',\n",
       "  '        if with_mean:\\n',\n",
       "  '            raise ValueError(\\n',\n",
       "  '                \"Cannot center sparse matrices: pass `with_mean=False` instead\"\\n',\n",
       "  '                \" See docstring for motivation and alternatives.\")\\n',\n",
       "  '        if axis != 0:\\n',\n",
       "  '            raise ValueError(\"Can only scale sparse matrix on axis=0, \"\\n',\n",
       "  '                             \" got axis=%d\" % axis)\\n',\n",
       "  '        if not sparse.isspmatrix_csr(X):\\n',\n",
       "  '            X = X.tocsr()\\n',\n",
       "  '            copy = False\\n',\n",
       "  '        if copy:\\n',\n",
       "  '            X = X.copy()\\n',\n",
       "  '        if with_std:\\n',\n",
       "  '            _, var = mean_variance_axis(X, axis=0)\\n',\n",
       "  '            var = _handle_zeros_in_scale(var, copy=False)\\n',\n",
       "  '            inplace_column_scale(X, 1 / np.sqrt(var))\\n',\n",
       "  '    else:\\n',\n",
       "  '        X = np.asarray(X)\\n',\n",
       "  '        if with_mean:\\n',\n",
       "  '            mean_ = np.mean(X, axis)\\n',\n",
       "  '        if with_std:\\n',\n",
       "  '            scale_ = np.std(X, axis)\\n',\n",
       "  '        if copy:\\n',\n",
       "  '            X = X.copy()\\n',\n",
       "  '        # Xr is a view on the original array that enables easy use of\\n',\n",
       "  '        # broadcasting on the axis in which we are interested in\\n',\n",
       "  '        Xr = np.rollaxis(X, axis)\\n',\n",
       "  '        if with_mean:\\n',\n",
       "  '            Xr -= mean_\\n',\n",
       "  '            mean_1 = Xr.mean(axis=0)\\n',\n",
       "  \"            # Verify that mean_1 is 'close to zero'. If X contains very\\n\",\n",
       "  '            # large values, mean_1 can also be very large, due to a lack of\\n',\n",
       "  '            # precision of mean_. In this case, a pre-scaling of the\\n',\n",
       "  '            # concerned feature is efficient, for instance by its mean or\\n',\n",
       "  '            # maximum.\\n',\n",
       "  '            if not np.allclose(mean_1, 0):\\n',\n",
       "  '                warnings.warn(\"Numerical issues were encountered \"\\n',\n",
       "  '                              \"when centering the data \"\\n',\n",
       "  '                              \"and might not be solved. Dataset may \"\\n',\n",
       "  '                              \"contain too large values. You may need \"\\n',\n",
       "  '                              \"to prescale your features.\")\\n',\n",
       "  '                Xr -= mean_1\\n',\n",
       "  '        if with_std:\\n',\n",
       "  '            scale_ = _handle_zeros_in_scale(scale_, copy=False)\\n',\n",
       "  '            Xr /= scale_\\n',\n",
       "  '            if with_mean:\\n',\n",
       "  '                mean_2 = Xr.mean(axis=0)\\n',\n",
       "  \"                # If mean_2 is not 'close to zero', it comes from the fact that\\n\",\n",
       "  '                # scale_ is very small so that mean_2 = mean_1/scale_ > 0, even\\n',\n",
       "  '                # if mean_1 was close to zero. The problem is thus essentially\\n',\n",
       "  '                # due to the lack of precision of mean_. A solution is then to\\n',\n",
       "  '                # substract the mean again:\\n',\n",
       "  '                if not np.allclose(mean_2, 0):\\n',\n",
       "  '                    warnings.warn(\"Numerical issues were encountered \"\\n',\n",
       "  '                                  \"when scaling the data \"\\n',\n",
       "  '                                  \"and might not be solved. The standard \"\\n',\n",
       "  '                                  \"deviation of the data is probably \"\\n',\n",
       "  '                                  \"very close to 0. \")\\n',\n",
       "  '                    Xr -= mean_2\\n',\n",
       "  '    return X\\n'],\n",
       " 79)"
      ]
     },
     "execution_count": 242,
     "metadata": {},
     "output_type": "execute_result"
    }
   ],
   "source": [
    "import inspect\n",
    "inspect.getsourcelines(preprocessing.scale) "
   ]
  },
  {
   "cell_type": "code",
   "execution_count": 3,
   "metadata": {
    "collapsed": false,
    "scrolled": true
   },
   "outputs": [
    {
     "name": "stdout",
     "output_type": "stream",
     "text": [
      "(712, 10)\n",
      "(712,)\n",
      "(179, 10)\n",
      "(179,)\n"
     ]
    }
   ],
   "source": [
    "test_size=0.2\n",
    "\n",
    "df_train = pd.read_csv(r'train.csv')\n",
    "df_train.index = df_train.PassengerId\n",
    "\n",
    "y = df_train.Survived.values\n",
    "df_train = df_train.drop(['Survived'], axis=1)\n",
    "\n",
    "#remove columns\n",
    "df_train = df_train.drop(['Name', 'Ticket', 'PassengerId', 'Cabin'], axis=1)\n",
    "\n",
    "#fill n/a\n",
    "df_train['Age'] = df_train.Age.fillna(-1)\n",
    "df_train['Embarked'] = df_train.Embarked.fillna('X')\n",
    "\n",
    "#one hot encoding. OK to do it for all data, inlcuding df_predict\n",
    "df_train['Sex'] = (df_train.Sex == 'male').astype(int)\n",
    "\n",
    "df_dummy = pd.get_dummies(df_train.Embarked, prefix='Embarked')\n",
    "df_train = df_train.drop(['Embarked'], axis=1)\n",
    "df_train = pd.concat((df_train, df_dummy), axis=1)\n",
    "\n",
    "#df_train\n",
    "#df_predict\n",
    "\n",
    "X = df_train.values\n",
    "X_train, X_dev, y_train, y_dev = train_test_split(X, y, test_size=test_size, random_state=0)\n",
    "\n",
    "#scale: X = (X - X.mean(axis=0))/np.sqrt(X.var(axis=0))\n",
    "#X = preprocessing.scale(X)\n",
    "\n",
    "#normalization - mean, var from train set, apply to dev set and test set\n",
    "scaler = preprocessing.StandardScaler().fit(X_train)\n",
    "X_train = scaler.transform(X_train)   \n",
    "X_dev = scaler.transform(X_dev)\n",
    "\n",
    "X_train_k = X_train\n",
    "X_dev_k = X_dev\n",
    "Y_train_k = y_train.reshape(y_train.shape[0], 1)\n",
    "Y_dev_k = y_dev.reshape(y_dev.shape[0], 1)\n",
    "\n",
    "X_train_my = X_train.T\n",
    "X_dev_my = X_dev.T\n",
    "Y_train_my = y_train.reshape(1, y_train.shape[0])\n",
    "Y_dev_my = y_dev.reshape(1, y_dev.shape[0])\n",
    "\n",
    "print(X_train.shape)\n",
    "print(y_train.shape)\n",
    "print(X_dev.shape)\n",
    "print(y_dev.shape)"
   ]
  },
  {
   "cell_type": "code",
   "execution_count": 6,
   "metadata": {
    "collapsed": false
   },
   "outputs": [
    {
     "data": {
      "text/plain": [
       "count    891.000000\n",
       "mean       0.188552\n",
       "std        0.391372\n",
       "min        0.000000\n",
       "25%        0.000000\n",
       "50%        0.000000\n",
       "75%        0.000000\n",
       "max        1.000000\n",
       "Name: Embarked_C, dtype: float64"
      ]
     },
     "execution_count": 6,
     "metadata": {},
     "output_type": "execute_result"
    }
   ],
   "source": [
    "df_train.Embarked_C.describe()"
   ]
  },
  {
   "cell_type": "code",
   "execution_count": 119,
   "metadata": {
    "collapsed": false,
    "scrolled": true
   },
   "outputs": [
    {
     "data": {
      "image/png": "[encoded data removed]",
      "text/plain": [
       "<matplotlib.figure.Figure at 0x2a17bce3710>"
      ]
     },
     "metadata": {},
     "output_type": "display_data"
    }
   ],
   "source": [
    "df_train.Embarked_C.hist()\n",
    "plt.show()"
   ]
  },
  {
   "cell_type": "code",
   "execution_count": 7,
   "metadata": {
    "collapsed": false
   },
   "outputs": [
    {
     "name": "stdout",
     "output_type": "stream",
     "text": [
      "<class 'sklearn.linear_model.logistic.LogisticRegressionCV'> 0.803370786517 0.804469273743\n",
      "<class 'sklearn.ensemble.forest.RandomForestClassifier'> 0.981741573034 0.843575418994\n"
     ]
    }
   ],
   "source": [
    "np.random.seed(0) # set a seed so that the results are consistent\n",
    "\n",
    "clfs = [sklearn.linear_model.LogisticRegressionCV(),\n",
    "        RandomForestClassifier(n_estimators=100, n_jobs=-1)]  \n",
    "\n",
    "for clf in clfs:\n",
    "    clf.fit(X_train, y_train);\n",
    "    predictions = clf.predict(X_train)\n",
    "    accuracy = accuracy_score(predictions, y_train)\n",
    "    predictions = clf.predict(X_dev)\n",
    "    accuracy2 = accuracy_score(predictions, y_dev)\n",
    "    print(type(clf), accuracy, accuracy2)\n",
    "   "
   ]
  },
  {
   "cell_type": "code",
   "execution_count": 8,
   "metadata": {
    "collapsed": false
   },
   "outputs": [],
   "source": [
    "class MyCallback(keras.callbacks.Callback):\n",
    "    def __init__(self, verbose):\n",
    "        self.verbose = verbose\n",
    "\n",
    "    def on_epoch_begin(self, epoch, logs=None):\n",
    "        pass\n",
    "\n",
    "    def on_epoch_end(self, epoch, logs=None):\n",
    "        if self.verbose != None and epoch % self.verbose == 0:\n",
    "            print(epoch, logs['loss'], logs['acc'], logs['val_acc'])\n",
    "        \n"
   ]
  },
  {
   "cell_type": "code",
   "execution_count": 9,
   "metadata": {
    "collapsed": false
   },
   "outputs": [],
   "source": [
    "np.random.seed(0) # set a seed so that the results are consistent\n",
    "#for tanh\n",
    "initializer = keras.initializers.lecun_normal()\n",
    "regularizer = None\n",
    "#regularizer = regularizers.l2(0.1)\n",
    "model = Sequential()\n",
    "model.add(Dense(20, input_dim=X_train_k.shape[1], kernel_initializer=initializer, activation='tanh', kernel_regularizer=regularizer))\n",
    "model.add(Dense(10, kernel_initializer=initializer, activation='tanh', kernel_regularizer=regularizer))\n",
    "model.add(Dense(1, kernel_initializer=initializer, activation='sigmoid', kernel_regularizer=regularizer))\n",
    "#optimizer = optimizers.SGD(lr=0.05, momentum=0.9)\n",
    "optimizer = optimizers.Adam(lr=0.001)\n",
    "model.compile(loss='binary_crossentropy', optimizer=optimizer, metrics=['accuracy'])"
   ]
  },
  {
   "cell_type": "code",
   "execution_count": 13,
   "metadata": {
    "collapsed": false,
    "scrolled": true
   },
   "outputs": [
    {
     "name": "stdout",
     "output_type": "stream",
     "text": [
      "100000 0.0935170277953 0.971910119057 0.754189968109\n",
      "110000 0.0553006306291 0.973314583302 0.726256966591\n",
      "120000 0.0526406243443 0.974719107151 0.743016779423\n",
      "130000 0.0509615167975 0.974719107151 0.726256966591\n",
      "140000 0.050093665719 0.976123571396 0.72067040205\n",
      "150000 0.0493310876191 0.976123571396 0.726256966591\n",
      "160000 0.0487541668117 0.976123571396 0.726256966591\n",
      "170000 0.0484033711255 0.976123571396 0.737430155277\n",
      "180000 0.047991130501 0.976123571396 0.731843590736\n",
      "190000 0.0987002253532 0.971910119057 0.737430155277\n",
      "200000 0.0916204154491 0.973314583302 0.72067040205\n",
      "210000 0.0914372205734 0.973314583302 0.726256966591\n",
      "220000 0.0912371128798 0.973314583302 0.72067040205\n",
      "230000 0.091063208878 0.973314583302 0.72067040205\n",
      "240000 0.0909275189042 0.973314583302 0.726256966591\n",
      "250000 0.0907712578773 0.973314583302 0.703910589218\n",
      "260000 0.0906470865011 0.973314583302 0.715083777905\n",
      "270000 0.0905238837004 0.973314583302 0.731843590736\n",
      "280000 0.11309132725 0.971910119057 0.748603343964\n",
      "290000 0.0903585404158 0.973314583302 0.748603343964\n",
      "300000 0.0902658179402 0.973314583302 0.737430155277\n",
      "310000 0.108608178794 0.973314583302 0.726256966591\n",
      "320000 0.108500488102 0.973314583302 0.731843590736\n",
      "330000 0.108432970941 0.973314583302 0.754189968109\n",
      "340000 0.108364157379 0.973314583302 0.748603343964\n",
      "350000 0.108303271234 0.973314583302 0.748603343964\n",
      "360000 0.108248397708 0.973314583302 0.754189968109\n",
      "370000 0.108232945204 0.973314583302 0.754189968109\n",
      "380000 0.10813357681 0.973314583302 0.754189968109\n",
      "390000 0.109154082835 0.973314583302 0.748603343964\n",
      "400000 0.10802641511 0.973314583302 0.748603343964\n",
      "410000 0.107972361147 0.973314583302 0.748603343964\n",
      "420000 0.107919089496 0.973314583302 0.748603343964\n",
      "430000 0.108023136854 0.973314583302 0.765363156796\n",
      "440000 0.108013913035 0.973314583302 0.75977653265\n",
      "450000 0.107746683061 0.973314583302 0.754189968109\n",
      "460000 0.107695601881 0.973314583302 0.754189968109\n",
      "470000 0.107660554349 0.973314583302 0.737430155277\n",
      "480000 0.107634320855 0.973314583302 0.748603343964\n",
      "490000 0.14384804666 0.973314583302 0.748603343964\n",
      "Accuracy train 0.973314606742\n",
      "Accuracy dev 0.748603351955\n"
     ]
    }
   ],
   "source": [
    "np.random.seed(0) # set a seed so that the results are consistent\n",
    "initial_epoch = 100000\n",
    "epochs = 500000\n",
    "verbose = 0\n",
    "verbose2 = 10000\n",
    "batch_size = int(X_train_k.shape[0])\n",
    "\n",
    "results = model.fit(X_train_k, Y_train_k, batch_size=batch_size, epochs=epochs, callbacks=[MyCallback(verbose2)], validation_data = (X_dev_k, Y_dev_k), verbose=verbose, initial_epoch=initial_epoch)\n",
    "Y_predict_k = model.predict(X_train_k)\n",
    "Y_predict_k = Y_predict_k > 0.5\n",
    "print('Accuracy train', accuracy_score(Y_train_k, Y_predict_k))\n",
    "Y_predict_k = model.predict(X_dev_k)\n",
    "Y_predict_k = Y_predict_k > 0.5\n",
    "print('Accuracy dev', accuracy_score(Y_dev_k, Y_predict_k))"
   ]
  },
  {
   "cell_type": "code",
   "execution_count": null,
   "metadata": {
    "collapsed": true
   },
   "outputs": [],
   "source": [
    "20/20/20/1,  lr=0.1/epochs=100000/batch_size=all\n",
    "Accuracy train 0.9578\n",
    "Accuracy dev 0.7877\n",
    "\n",
    "20/20/10/1,  lr=0.05/epochs=100000/batch_size=all\n",
    "Accuracy train 0.9297 \n",
    "Accuracy train 0.7541\n",
    "\n",
    "20/20/10/1,  lr=0.05/epochs=100000/batch_size=all/beta=0.9\n",
    "Accuracy train 0.973314606742\n",
    "Accuracy dev 0.754189944134  \n",
    "    \n",
    "20/10/1 lr=0.001/epochs=500000/batch_size=all/adam\n",
    "Accuracy train 0.973314606742\n",
    "Accuracy dev 0.748603351955"
   ]
  },
  {
   "cell_type": "code",
   "execution_count": 14,
   "metadata": {
    "collapsed": false
   },
   "outputs": [
    {
     "data": {
      "image/png": "[encoded data removed]",
      "text/plain": [
       "<matplotlib.figure.Figure at 0x250b1f9e780>"
      ]
     },
     "metadata": {},
     "output_type": "display_data"
    }
   ],
   "source": [
    "plt.plot(results.history['loss'])\n",
    "plt.show()"
   ]
  },
  {
   "cell_type": "code",
   "execution_count": 15,
   "metadata": {
    "collapsed": false
   },
   "outputs": [
    {
     "data": {
      "image/png": "[encoded data removed]",
      "text/plain": [
       "<matplotlib.figure.Figure at 0x250b03dd278>"
      ]
     },
     "metadata": {},
     "output_type": "display_data"
    }
   ],
   "source": [
    "plt.plot(results.history['acc'])\n",
    "plt.plot(results.history['val_acc'])\n",
    "plt.show()"
   ]
  },
  {
   "cell_type": "code",
   "execution_count": 25,
   "metadata": {
    "collapsed": false
   },
   "outputs": [
    {
     "data": {
      "text/plain": [
       "<module 'DNN' from 'C:\\\\Users\\\\mircean\\\\git\\\\ML\\\\DeepLearning\\\\DNN.py'>"
      ]
     },
     "execution_count": 25,
     "metadata": {},
     "output_type": "execute_result"
    }
   ],
   "source": [
    "importlib.reload(DNN)"
   ]
  },
  {
   "cell_type": "code",
   "execution_count": 26,
   "metadata": {
    "collapsed": false
   },
   "outputs": [],
   "source": [
    "#random seed for parameters init\n",
    "np.random.seed(0)\n",
    "dnn = DNN.DNN()\n",
    "dnn.add_input_layer(X_train_my.shape[0])\n",
    "dnn.add_layer(20, np.tanh)\n",
    "dnn.add_layer(10, np.tanh)\n",
    "dnn.add_layer(1, DNN.sigmoid)\n",
    "dnn.costfunction = DNN.binary_crossentropy\n",
    "dnn.init = 'Lecun'\n",
    "dnn.optimizer = 'Adam'\n",
    "dnn.compile()"
   ]
  },
  {
   "cell_type": "code",
   "execution_count": 27,
   "metadata": {
    "collapsed": false,
    "scrolled": true
   },
   "outputs": [
    {
     "name": "stdout",
     "output_type": "stream",
     "text": [
      "Cost after iteration 0 ['0.687491', '0.627809', '0.653631']\n",
      "Cost after iteration 1000 ['0.325965', '0.872191', '0.804469']\n",
      "Cost after iteration 2000 ['0.245432', '0.901685', '0.804469']\n",
      "Cost after iteration 3000 ['0.198353', '0.918539', '0.810056']\n",
      "Cost after iteration 4000 ['0.166318', '0.935393', '0.810056']\n",
      "Cost after iteration 5000 ['0.139335', '0.945225', '0.815642']\n",
      "Cost after iteration 6000 ['0.121982', '0.953652', '0.793296']\n",
      "Cost after iteration 7000 ['0.109804', '0.957865', '0.793296']\n",
      "Cost after iteration 8000 ['0.101553', '0.960674', '0.798883']\n",
      "Cost after iteration 9000 ['0.096563', '0.960674', '0.793296']\n",
      "Cost after iteration 10000 ['0.092647', '0.962079', '0.776536']\n",
      "Cost after iteration 11000 ['0.088589', '0.962079', '0.793296']\n",
      "Cost after iteration 12000 ['0.086154', '0.962079', '0.787709']\n",
      "Cost after iteration 13000 ['0.084364', '0.962079', '0.776536']\n",
      "Cost after iteration 14000 ['0.082938', '0.963483', '0.798883']\n",
      "Cost after iteration 15000 ['0.081795', '0.963483', '0.793296']\n",
      "Cost after iteration 16000 ['0.080848', '0.963483', '0.787709']\n",
      "Cost after iteration 17000 ['0.080043', '0.964888', '0.787709']\n",
      "Cost after iteration 18000 ['0.079347', '0.964888', '0.793296']\n",
      "Cost after iteration 19000 ['0.078746', '0.964888', '0.782123']\n",
      "Cost after iteration 20000 ['0.078195', '0.964888', '0.787709']\n",
      "Cost after iteration 21000 ['0.077705', '0.964888', '0.787709']\n",
      "Cost after iteration 22000 ['0.077253', '0.964888', '0.782123']\n",
      "Cost after iteration 23000 ['0.076861', '0.966292', '0.782123']\n",
      "Cost after iteration 24000 ['0.076426', '0.966292', '0.787709']\n",
      "Cost after iteration 25000 ['0.076133', '0.966292', '0.787709']\n",
      "Cost after iteration 26000 ['0.075726', '0.966292', '0.782123']\n",
      "Cost after iteration 27000 ['0.075392', '0.967697', '0.782123']\n",
      "Cost after iteration 28000 ['0.075089', '0.967697', '0.782123']\n",
      "Cost after iteration 29000 ['0.074805', '0.967697', '0.776536']\n",
      "Cost after iteration 30000 ['0.074549', '0.967697', '0.776536']\n",
      "Cost after iteration 31000 ['0.074304', '0.966292', '0.782123']\n",
      "Cost after iteration 32000 ['0.074065', '0.967697', '0.776536']\n",
      "Cost after iteration 33000 ['0.073938', '0.967697', '0.776536']\n",
      "Cost after iteration 34000 ['0.073601', '0.967697', '0.776536']\n",
      "Cost after iteration 35000 ['0.073462', '0.966292', '0.776536']\n",
      "Cost after iteration 36000 ['0.073184', '0.967697', '0.776536']\n",
      "Cost after iteration 37000 ['0.073074', '0.966292', '0.770950']\n",
      "Cost after iteration 38000 ['0.072773', '0.967697', '0.776536']\n",
      "Cost after iteration 39000 ['0.072598', '0.967697', '0.776536']\n",
      "Cost after iteration 40000 ['0.072378', '0.967697', '0.776536']\n",
      "Cost after iteration 41000 ['0.072217', '0.967697', '0.776536']\n",
      "Cost after iteration 42000 ['0.071979', '0.967697', '0.776536']\n",
      "Cost after iteration 43000 ['0.071790', '0.967697', '0.776536']\n",
      "Cost after iteration 44000 ['0.071588', '0.967697', '0.782123']\n",
      "Cost after iteration 45000 ['0.071390', '0.967697', '0.782123']\n",
      "Cost after iteration 46000 ['0.071176', '0.967697', '0.776536']\n",
      "Cost after iteration 47000 ['0.071024', '0.967697', '0.776536']\n",
      "Cost after iteration 48000 ['0.070793', '0.967697', '0.770950']\n",
      "Cost after iteration 49000 ['0.070589', '0.967697', '0.770950']\n",
      "Cost after iteration 50000 ['0.070398', '0.967697', '0.770950']\n",
      "Cost after iteration 51000 ['0.070187', '0.969101', '0.770950']\n",
      "Cost after iteration 52000 ['0.070002', '0.969101', '0.770950']\n",
      "Cost after iteration 53000 ['0.069769', '0.969101', '0.770950']\n",
      "Cost after iteration 54000 ['0.069539', '0.969101', '0.776536']\n",
      "Cost after iteration 55000 ['0.069318', '0.969101', '0.776536']\n",
      "Cost after iteration 56000 ['0.069113', '0.969101', '0.776536']\n",
      "Cost after iteration 57000 ['0.068913', '0.969101', '0.776536']\n",
      "Cost after iteration 58000 ['0.068627', '0.969101', '0.770950']\n",
      "Cost after iteration 59000 ['0.068416', '0.969101', '0.776536']\n",
      "Cost after iteration 60000 ['0.068162', '0.969101', '0.776536']\n",
      "Cost after iteration 61000 ['0.067956', '0.969101', '0.776536']\n",
      "Cost after iteration 62000 ['0.067763', '0.970506', '0.770950']\n",
      "Cost after iteration 63000 ['0.067514', '0.969101', '0.782123']\n",
      "Cost after iteration 64000 ['0.067302', '0.970506', '0.782123']\n",
      "Cost after iteration 65000 ['0.067142', '0.969101', '0.770950']\n",
      "Cost after iteration 66000 ['0.066968', '0.969101', '0.770950']\n",
      "Cost after iteration 67000 ['0.066680', '0.970506', '0.770950']\n",
      "Cost after iteration 68000 ['0.066445', '0.970506', '0.770950']\n",
      "Cost after iteration 69000 ['0.066244', '0.970506', '0.765363']\n",
      "Cost after iteration 70000 ['0.065990', '0.970506', '0.759777']\n",
      "Cost after iteration 71000 ['0.065757', '0.970506', '0.759777']\n",
      "Cost after iteration 72000 ['0.065545', '0.970506', '0.759777']\n",
      "Cost after iteration 73000 ['0.065466', '0.970506', '0.759777']\n",
      "Cost after iteration 74000 ['0.065167', '0.970506', '0.759777']\n",
      "Cost after iteration 75000 ['0.064972', '0.970506', '0.770950']\n",
      "Cost after iteration 76000 ['0.064744', '0.970506', '0.770950']\n",
      "Cost after iteration 77000 ['0.064559', '0.970506', '0.770950']\n",
      "Cost after iteration 78000 ['0.064368', '0.970506', '0.765363']\n",
      "Cost after iteration 79000 ['0.064207', '0.970506', '0.765363']\n",
      "Cost after iteration 80000 ['0.064054', '0.970506', '0.770950']\n",
      "Cost after iteration 81000 ['0.063850', '0.970506', '0.770950']\n",
      "Cost after iteration 82000 ['0.063664', '0.970506', '0.765363']\n",
      "Cost after iteration 83000 ['0.063500', '0.970506', '0.765363']\n",
      "Cost after iteration 84000 ['0.063397', '0.971910', '0.754190']\n",
      "Cost after iteration 85000 ['0.063160', '0.970506', '0.759777']\n",
      "Cost after iteration 86000 ['0.062997', '0.970506', '0.759777']\n",
      "Cost after iteration 87000 ['0.062845', '0.970506', '0.759777']\n",
      "Cost after iteration 88000 ['0.062673', '0.971910', '0.754190']\n",
      "Cost after iteration 89000 ['0.062571', '0.970506', '0.759777']\n",
      "Cost after iteration 90000 ['0.062365', '0.973315', '0.748603']\n",
      "Cost after iteration 91000 ['0.062180', '0.971910', '0.748603']\n",
      "Cost after iteration 92000 ['0.062101', '0.973315', '0.748603']\n",
      "Cost after iteration 93000 ['0.061862', '0.973315', '0.748603']\n",
      "Cost after iteration 94000 ['0.061695', '0.973315', '0.748603']\n",
      "Cost after iteration 95000 ['0.061634', '0.973315', '0.743017']\n",
      "Cost after iteration 96000 ['0.061353', '0.973315', '0.743017']\n",
      "Cost after iteration 97000 ['0.061188', '0.973315', '0.743017']\n",
      "Cost after iteration 98000 ['0.061049', '0.973315', '0.737430']\n",
      "Cost after iteration 99000 ['0.060873', '0.973315', '0.737430']\n",
      "Accuracy train 0.973314606742\n",
      "Accuracy dev 0.737430167598\n"
     ]
    }
   ],
   "source": [
    "#random seed for mini batch shuffle\n",
    "np.random.seed(0)\n",
    "\n",
    "learning_rate = 0.001\n",
    "epochs = 100000\n",
    "batch_size = int(X_train_my.shape[1])\n",
    "verbose = 1000\n",
    "gradient_check = False\n",
    "\n",
    "#eval_set = None\n",
    "eval_set = [(X_train_my, Y_train_my), (X_dev_my, Y_dev_my)]\n",
    "results = dnn.fit(X_train_my, Y_train_my, eval_set=eval_set, eval_metric='error', learning_rate=learning_rate, batch_size=batch_size, epochs=epochs, verbose=verbose, gradient_check=gradient_check)\n",
    "\n",
    "Y_predict_my = dnn.predict(X_train_my)\n",
    "Y_predict_my = Y_predict_my > 0.5\n",
    "accuracy = accuracy_score(np.reshape(Y_train_my, Y_train_my.shape[1]), np.reshape(Y_predict_my, Y_predict_my.shape[1]))\n",
    "print('Accuracy train', accuracy)\n",
    "\n",
    "Y_predict_my = dnn.predict(X_dev_my)\n",
    "Y_predict_my = Y_predict_my > 0.5\n",
    "accuracy = accuracy_score(np.reshape(Y_dev_my, Y_dev_my.shape[1]), np.reshape(Y_predict_my, Y_predict_my.shape[1]))\n",
    "print('Accuracy dev', accuracy)\n"
   ]
  },
  {
   "cell_type": "code",
   "execution_count": null,
   "metadata": {
    "collapsed": true
   },
   "outputs": [],
   "source": [
    "20/20/20/1,  lr=0.05/epochs=100000/batch_size=all/beta=0.9\n",
    "Accuracy train 0.964887640449\n",
    "Accuracy dev 0.765363128492\n",
    "\n",
    "20/10/1 lr=0.0001/epochs=100000/batch_size=all/adam\n",
    "Accuracy train 0.973314606742\n",
    "Accuracy dev 0.737430167598"
   ]
  },
  {
   "cell_type": "code",
   "execution_count": 28,
   "metadata": {
    "collapsed": false
   },
   "outputs": [
    {
     "data": {
      "image/png": "[encoded data removed]",
      "text/plain": [
       "<matplotlib.figure.Figure at 0x250b741f4e0>"
      ]
     },
     "metadata": {},
     "output_type": "display_data"
    }
   ],
   "source": [
    "plt.plot(results['loss'])\n",
    "plt.show()"
   ]
  },
  {
   "cell_type": "code",
   "execution_count": 29,
   "metadata": {
    "collapsed": false
   },
   "outputs": [
    {
     "data": {
      "image/png": "[encoded data removed]",
      "text/plain": [
       "<matplotlib.figure.Figure at 0x250b034bba8>"
      ]
     },
     "metadata": {},
     "output_type": "display_data"
    }
   ],
   "source": [
    "plt.plot(results['eval0'])\n",
    "plt.plot(results['eval1'])\n",
    "plt.show()"
   ]
  },
  {
   "cell_type": "code",
   "execution_count": null,
   "metadata": {
    "collapsed": true
   },
   "outputs": [],
   "source": []
  }
 ],
 "metadata": {
  "anaconda-cloud": {},
  "kernelspec": {
   "display_name": "Python [default]",
   "language": "python",
   "name": "python3"
  },
  "language_info": {
   "codemirror_mode": {
    "name": "ipython",
    "version": 3
   },
   "file_extension": ".py",
   "mimetype": "text/x-python",
   "name": "python",
   "nbconvert_exporter": "python",
   "pygments_lexer": "ipython3",
   "version": "3.5.2"
  }
 },
 "nbformat": 4,
 "nbformat_minor": 1
}
